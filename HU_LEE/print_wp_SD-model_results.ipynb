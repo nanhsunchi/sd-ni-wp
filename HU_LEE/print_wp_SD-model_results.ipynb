{
 "cells": [
  {
   "cell_type": "code",
   "execution_count": 1,
   "metadata": {},
   "outputs": [],
   "source": [
    "''' read & compute SD alongtrack timeseries of GFS & SD's wind power and acc energy to NI motions '''\n",
    "import numpy as np\n",
    "import datetime\n",
    "import os\n",
    "import sys\n",
    "from scipy import stats"
   ]
  },
  {
   "cell_type": "code",
   "execution_count": 7,
   "metadata": {},
   "outputs": [
    {
     "name": "stdout",
     "output_type": "stream",
     "text": [
      "3 ['timeseries_wnd_cur_bp(0.80f-1.20f)_wp_energy_2023-SD1036_20230907-0919_600.0-sec-grid.txt'\n",
      " 'timeseries_wnd_cur_bp(0.80f-1.20f)_wp_energy_2023-SD1041_20230906-0918_600.0-sec-grid.txt'\n",
      " 'timeseries_wnd_cur_bp(0.80f-1.20f)_wp_energy_2023-SD1069_20230903-0915_600.0-sec-grid.txt']\n"
     ]
    }
   ],
   "source": [
    "''' SD data info - partial track data '''\n",
    "year = '2023'\n",
    "platfs_num = ['1036','1041','1069'] #['1031','1036','1040','1041','1042','1045','1057','1064','1065','1068','1069','1083']\n",
    "path_SD = os.path.expanduser('~/Documents/projects/sd-ni-wp/HU_LEE/')\n",
    "filenames_SD_all = np.sort( os.listdir(path_SD) )\n",
    "filenames_SD = np.array([])\n",
    "for file in filenames_SD_all:\n",
    "    if ('timeseries' in file) & ('.txt' in file) & (year in file):\n",
    "        filenames_SD = np.append(filenames_SD, file)\n",
    "print(len(filenames_SD), filenames_SD)"
   ]
  },
  {
   "cell_type": "code",
   "execution_count": 8,
   "metadata": {},
   "outputs": [
    {
     "name": "stdout",
     "output_type": "stream",
     "text": [
      "3 ['timeseries_wnd_u10m_match_2023-SD1036_GFS.txt'\n",
      " 'timeseries_wnd_u10m_match_2023-SD1041_GFS.txt'\n",
      " 'timeseries_wnd_u10m_match_2023-SD1069_GFS.txt']\n"
     ]
    }
   ],
   "source": [
    "''' along track data info with GFS flux data '''\n",
    "path_GFS = os.path.expanduser('~/Documents/projects/sd-ni-wp/SD_windstress/compare_SD_model/data_timeseries_match_SD_GFS/')\n",
    "filenames_GFS_all = np.sort( os.listdir(path_GFS) )\n",
    "filenames_GFS = np.array([])\n",
    "for file in filenames_GFS_all:\n",
    "    if ('u10' in file) & ('.txt' in file) & (year in file) & (file[-12:-8] in platfs_num):\n",
    "        filenames_GFS = np.append(filenames_GFS, file)\n",
    "print(len(filenames_GFS), filenames_GFS)"
   ]
  },
  {
   "cell_type": "code",
   "execution_count": null,
   "metadata": {},
   "outputs": [
    {
     "name": "stdout",
     "output_type": "stream",
     "text": [
      "Look at 2 files: timeseries_wnd_u10m_match_2023-SD1036_GFS.txt timeseries_wnd_cur_bp(0.80f-1.20f)_wp_energy_2023-SD1036_20230907-0919_600.0-sec-grid.txt\n",
      "GFS time: [datetime.datetime(2023, 8, 1, 1, 0) datetime.datetime(2023, 8, 1, 2, 0)] ... 2023-10-26 18:00:00\n",
      "SD time: [datetime.datetime(2023, 9, 7, 0, 0) datetime.datetime(2023, 9, 7, 0, 10)] ... 2023-09-18 23:50:00\n"
     ]
    }
   ],
   "source": [
    "''' compute & compare/ print results from SD & model '''\n",
    "for i, platf in enumerate( platfs_num ):\n",
    "    dataGFS = np.genfromtxt( path_GFS+filenames_GFS[i], skip_header=True, delimiter=' ')\n",
    "    dataSD = np.genfromtxt( path_SD+filenames_SD[i], skip_header=True, delimiter=' ')\n",
    "    print('Look at 2 files:',filenames_GFS[i], filenames_SD[i])\n",
    "    dtimeGFS = np.array([datetime.datetime.fromtimestamp(item) for item in dataGFS[:,0]])\n",
    "    print('GFS time:',dtimeGFS[0:2],'...', dtimeGFS[-1])\n",
    "    dtimeSD = np.array([datetime.datetime.fromtimestamp(item) for item in dataSD[:,0]])\n",
    "    print('SD time:',dtimeSD[0:2],'...', dtimeSD[-1])\n",
    "    ''' find match data points: GFS is hourly data '''\n",
    "\n",
    "    ''' compute 2 sets of accumulated energy from SD: (1) on hourly grid (2) on 10-minute grid '''\n",
    "\n",
    "    ''' plot & print GFS (from UFLX, VFLX) & SD's (2 temporal grid) wind power & accumulated energy results '''\n",
    "    break"
   ]
  }
 ],
 "metadata": {
  "kernelspec": {
   "display_name": "pycode",
   "language": "python",
   "name": "python3"
  },
  "language_info": {
   "codemirror_mode": {
    "name": "ipython",
    "version": 3
   },
   "file_extension": ".py",
   "mimetype": "text/x-python",
   "name": "python",
   "nbconvert_exporter": "python",
   "pygments_lexer": "ipython3",
   "version": "3.9.7"
  }
 },
 "nbformat": 4,
 "nbformat_minor": 2
}
