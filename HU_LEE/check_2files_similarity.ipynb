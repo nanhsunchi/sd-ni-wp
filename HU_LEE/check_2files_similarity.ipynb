{
 "cells": [
  {
   "cell_type": "code",
   "execution_count": 1,
   "metadata": {},
   "outputs": [],
   "source": [
    "''' check if two timeseries in txt file have the same contents '''\n",
    "import numpy as np\n",
    "import matplotlib.pyplot as plt\n",
    "import datetime\n",
    "import os"
   ]
  },
  {
   "cell_type": "code",
   "execution_count": 3,
   "metadata": {},
   "outputs": [
    {
     "name": "stdout",
     "output_type": "stream",
     "text": [
      "ds1, ds2 shape: (1728, 15) (1728, 15)\n"
     ]
    }
   ],
   "source": [
    "path = os.path.expanduser('~/Documents/projects/sd-ni-wp/HU_LEE/')\n",
    "fn1 = 'timeseries_wnd_cur_bp(0.80f-1.20f)_wp_energy_2023-SD1036_20230907-0919_600.0-sec-grid.txt'\n",
    "fn2 = 'timeseries_wnd_cur_bp(0.80f-1.20f)_wp_energy_2023-SD1036_20230907-0919_600.0-sec-grid_v1.txt'\n",
    "\n",
    "ds1 = np.genfromtxt(path+fn1,skip_header=True, delimiter=' ')\n",
    "ds2 = np.genfromtxt(path+fn2,skip_header=True, delimiter=' ')\n",
    "print('ds1, ds2 shape:',ds1.shape, ds2.shape)"
   ]
  },
  {
   "cell_type": "code",
   "execution_count": 4,
   "metadata": {},
   "outputs": [
    {
     "name": "stdout",
     "output_type": "stream",
     "text": [
      "Are column-0 of two data the same? --> True\n",
      "Are column-1 of two data the same? --> True\n",
      "Are column-2 of two data the same? --> True\n",
      "Are column-3 of two data the same? --> True\n",
      "Are column-4 of two data the same? --> True\n",
      "Are column-5 of two data the same? --> True\n",
      "Are column-6 of two data the same? --> True\n",
      "Are column-7 of two data the same? --> True\n",
      "Are column-8 of two data the same? --> True\n",
      "Are column-9 of two data the same? --> True\n",
      "Are column-10 of two data the same? --> True\n",
      "Are column-11 of two data the same? --> True\n",
      "Are column-12 of two data the same? --> True\n",
      "Are column-13 of two data the same? --> True\n",
      "Are column-14 of two data the same? --> True\n"
     ]
    }
   ],
   "source": [
    "for icol in range( ds1.shape[1] ):\n",
    "    isTrue = (ds2[:,icol]==ds1[:,icol]).all()\n",
    "    print('Are column-{:.0f} of two data the same? -->'.format(icol),isTrue)"
   ]
  }
 ],
 "metadata": {
  "kernelspec": {
   "display_name": "pycode",
   "language": "python",
   "name": "python3"
  },
  "language_info": {
   "codemirror_mode": {
    "name": "ipython",
    "version": 3
   },
   "file_extension": ".py",
   "mimetype": "text/x-python",
   "name": "python",
   "nbconvert_exporter": "python",
   "pygments_lexer": "ipython3",
   "version": "3.9.7"
  }
 },
 "nbformat": 4,
 "nbformat_minor": 2
}
