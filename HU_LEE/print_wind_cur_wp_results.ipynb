{
 "cells": [
  {
   "cell_type": "code",
   "execution_count": 1,
   "metadata": {},
   "outputs": [],
   "source": [
    "''' read SD alongtrack timeseries of wind, current, tau, wind power and acc energy to NI motions '''\n",
    "import numpy as np\n",
    "import datetime\n",
    "import os\n",
    "import sys\n",
    "from scipy import stats"
   ]
  },
  {
   "cell_type": "code",
   "execution_count": 31,
   "metadata": {},
   "outputs": [
    {
     "name": "stdout",
     "output_type": "stream",
     "text": [
      "3 ['timeseries_wnd_cur_bp(0.80f-1.20f)_wp_energy_2023-SD1036_20230907-0919_600.0-sec-grid.txt'\n",
      " 'timeseries_wnd_cur_bp(0.80f-1.20f)_wp_energy_2023-SD1041_20230906-0918_600.0-sec-grid.txt'\n",
      " 'timeseries_wnd_cur_bp(0.80f-1.20f)_wp_energy_2023-SD1069_20230903-0915_600.0-sec-grid.txt']\n"
     ]
    }
   ],
   "source": [
    "''' SD data info '''\n",
    "year = '2023'\n",
    "platfs_num = ['1031','1036','1040','1041','1042','1045','1057','1064','1065','1068','1069','1083']#['1036','1041','1069']\n",
    "path_SD = os.path.expanduser('~/Documents/projects/sd-ni-wp/HU_LEE/')\n",
    "filenames_SD_all = np.sort( os.listdir(path_SD) )\n",
    "filenames_SD = np.array([])\n",
    "for file in filenames_SD_all:\n",
    "    if ('timeseries' in file) & ('.txt' in file) & (year in file):\n",
    "        filenames_SD = np.append(filenames_SD, file)\n",
    "print(len(filenames_SD), filenames_SD)"
   ]
  },
  {
   "cell_type": "code",
   "execution_count": null,
   "metadata": {},
   "outputs": [
    {
     "name": "stdout",
     "output_type": "stream",
     "text": [
      "Now look at timeseries_wnd_cur_bp(0.80f-1.20f)_wp_energy_2023-SD1036_20230907-0919_600.0-sec-grid.txt\n",
      "headers: <class 'list'> 15 ['# timestamp_grid', 'lon_SD_grid', 'lat_SD_grid', 'taux_c_SD_grid', 'tauy_c_SD_grid', 'taux10m_c_SD_grid', 'tauy10m_c_SD_grid', 'ucur_SD_grid[:,iz]', 'vcur_SD_grid[:,iz]', 'ucur_SD_grid_bp[:,iz]', 'vcur_SD_grid_bp[:,iz]', 'tau_dot_sfcvel_SD', 'energy_input_SD', 'tau10m_dot_sfcvel_SD', 'energy_input_adj10m_SD\\n']\n",
      "max(tau10m_c_SD_grid) = 3.48E+00\n",
      "max(cur_SD_grid) = 1.29E+02\n",
      "max(cur_SD_grid_bp) = 5.11E+01\n",
      "max(tau10m_dot_sfcvel_SD) = 9.62E-01\n",
      "max(energy_input_adj10m_SD) = 2.02E+04\n",
      "energy_input_adj10m_SD ends at = 1.70E+04\n",
      "Now look at timeseries_wnd_cur_bp(0.80f-1.20f)_wp_energy_2023-SD1041_20230906-0918_600.0-sec-grid.txt\n",
      "headers: <class 'list'> 15 ['# timestamp_grid', 'lon_SD_grid', 'lat_SD_grid', 'taux_c_SD_grid', 'tauy_c_SD_grid', 'taux10m_c_SD_grid', 'tauy10m_c_SD_grid', 'ucur_SD_grid[:,iz]', 'vcur_SD_grid[:,iz]', 'ucur_SD_grid_bp[:,iz]', 'vcur_SD_grid_bp[:,iz]', 'tau_dot_sfcvel_SD', 'energy_input_SD', 'tau10m_dot_sfcvel_SD', 'energy_input_adj10m_SD\\n']\n",
      "max(tau10m_c_SD_grid) = 1.28E+00\n",
      "max(cur_SD_grid) = 8.46E+01\n",
      "max(cur_SD_grid_bp) = 1.58E+01\n",
      "max(tau10m_dot_sfcvel_SD) = 8.85E-02\n",
      "max(energy_input_adj10m_SD) = 1.67E+03\n",
      "energy_input_adj10m_SD ends at = 9.53E+02\n",
      "Now look at timeseries_wnd_cur_bp(0.80f-1.20f)_wp_energy_2023-SD1069_20230903-0915_600.0-sec-grid.txt\n",
      "headers: <class 'list'> 15 ['# timestamp_grid', 'lon_SD_grid', 'lat_SD_grid', 'taux_c_SD_grid', 'tauy_c_SD_grid', 'taux10m_c_SD_grid', 'tauy10m_c_SD_grid', 'ucur_SD_grid[:,iz]', 'vcur_SD_grid[:,iz]', 'ucur_SD_grid_bp[:,iz]', 'vcur_SD_grid_bp[:,iz]', 'tau_dot_sfcvel_SD', 'energy_input_SD', 'tau10m_dot_sfcvel_SD', 'energy_input_adj10m_SD\\n']\n",
      "max(tau10m_c_SD_grid) = 1.53E+00\n",
      "max(cur_SD_grid) = 1.23E+02\n",
      "max(cur_SD_grid_bp) = 7.30E+01\n",
      "max(tau10m_dot_sfcvel_SD) = 5.93E-01\n",
      "max(energy_input_adj10m_SD) = 1.91E+04\n",
      "energy_input_adj10m_SD ends at = 1.53E+04\n"
     ]
    }
   ],
   "source": [
    "''' print stats '''\n",
    "for _, file in enumerate( filenames_SD ):\n",
    "    print('Now look at '+file)\n",
    "    ''' get headers '''\n",
    "    fid = open(path_SD+file, 'r')\n",
    "    headers = (fid.readline()).split(', ')\n",
    "    fid.close()\n",
    "    print('headers:',type(headers),len(headers),headers)\n",
    "    # i_headers_want = [5,6,7,8,9,10,11,12]\n",
    "    data = np.genfromtxt(path_SD+file, skip_header=True, delimiter=' ')\n",
    "    tau10m_c_SD_grid = np.sqrt( np.square(data[:,5]) + np.square(data[:,6]) )\n",
    "    cur_SD_grid = np.sqrt( np.square(data[:,7]) + np.square(data[:,8]) )\n",
    "    cur_SD_grid_bp = np.sqrt( np.square(data[:,9]) + np.square(data[:,10]) )\n",
    "    tau10m_dot_sfcvel_SD = data[:,13]\n",
    "    energy_input_adj10m_SD = data[:,14]\n",
    "    ''' note tau10m are adjusted using simple power law - which is larger than coare3.6's U10 esp at higher wind speeds '''\n",
    "    vars_str = ['tau10m_c_SD_grid','cur_SD_grid','cur_SD_grid_bp','tau10m_dot_sfcvel_SD','energy_input_adj10m_SD']\n",
    "    ''' compute the max of each variables and print '''\n",
    "    for i, var_str in enumerate( vars_str ):\n",
    "        var_data = eval( var_str )\n",
    "        imax = np.argmax( var_data )\n",
    "        print('max('+var_str+') = {:.2E}'.format(var_data[imax]))\n",
    "    print(var_str+' ends at = {:.2E}'.format(var_data[-1]))\n",
    "    # break"
   ]
  }
 ],
 "metadata": {
  "kernelspec": {
   "display_name": "pycode",
   "language": "python",
   "name": "python3"
  },
  "language_info": {
   "codemirror_mode": {
    "name": "ipython",
    "version": 3
   },
   "file_extension": ".py",
   "mimetype": "text/x-python",
   "name": "python",
   "nbconvert_exporter": "python",
   "pygments_lexer": "ipython3",
   "version": "3.9.7"
  }
 },
 "nbformat": 4,
 "nbformat_minor": 2
}
