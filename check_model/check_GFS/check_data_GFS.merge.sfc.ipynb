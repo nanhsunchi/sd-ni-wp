{
 "cells": [
  {
   "cell_type": "code",
   "execution_count": 2,
   "metadata": {},
   "outputs": [],
   "source": [
    "'''\n",
    "check the aggregated GFS data (which is used to force RTOFS) from Mule\n",
    "On Mule tc2022/tc2023 directory: Both GFS & RTOFS have data range between 102W-30W, 7.5-46N. \n",
    "In 2023,    GFS has data between 8/1-11/20 (missing 9/2, 9/3). Wind data does not need bandpass filtering later\n",
    "            RTOFS has data between 7/26-11/21 (missing 8/21, 9/2-9/4, 11/5)\n",
    "'''\n",
    "import numpy as np\n",
    "import netCDF4 as nc\n",
    "import matplotlib\n",
    "import matplotlib.pyplot as plt\n",
    "import datetime\n",
    "import os\n",
    "import sys"
   ]
  },
  {
   "cell_type": "code",
   "execution_count": 3,
   "metadata": {},
   "outputs": [
    {
     "name": "stdout",
     "output_type": "stream",
     "text": [
      "Filenames selected to check in /Users/chi/Documents/projects/sd-ni-wp/check_model/check_GFS/\n",
      " ['GFS.merge.sfc.20230801-20230831.nc', 'GFS.merge.sfc.20230901-20230930.nc', 'GFS.merge.sfc.20231001-20231031.nc', 'GFS.merge.sfc.20231101-20231120.nc']\n"
     ]
    }
   ],
   "source": [
    "path = os.path.expanduser('~/Documents/projects/sd-ni-wp/check_model/check_GFS/')\n",
    "year = '2023'\n",
    "all_names = np.sort( os.listdir(path) )\n",
    "datelims = [[datetime.datetime(int(year),8,1), datetime.datetime(int(year),8,31)],\\\n",
    "           [datetime.datetime(int(year),9,1), datetime.datetime(int(year),9,30)],\\\n",
    "            [datetime.datetime(int(year),10,1), datetime.datetime(int(year),10,31)],\\\n",
    "                [datetime.datetime(int(year),11,1), datetime.datetime(int(year),11,20)]]\n",
    "\n",
    "filenames = []\n",
    "for i, item in enumerate( datelims ):\n",
    "    t1str = item[0].strftime('%Y%m%d')\n",
    "    t2str = item[1].strftime('%Y%m%d')\n",
    "    test = 'GFS.merge.sfc.'+t1str+'-'+t2str+'.nc'\n",
    "    if test in all_names:\n",
    "        filenames.append( test )\n",
    "print('Filenames selected to check in '+path+'\\n',filenames)"
   ]
  },
  {
   "cell_type": "code",
   "execution_count": 4,
   "metadata": {},
   "outputs": [
    {
     "name": "stdout",
     "output_type": "stream",
     "text": [
      "==========\n",
      "<class 'netCDF4._netCDF4.Dataset'>\n",
      "root group (NETCDF4_CLASSIC data model, file format HDF5):\n",
      "    title: Merged files for GFS sfc data between 20230801 01Z and 20230901 00Z\n",
      "Here the forecast hour 1 ~ 6 is aggregated for each forecast cycle (6 hour) for a hourly time series.\n",
      "    subtitle: Only selected variables for are merged here. The data is hourly with ~0.117 deg horizontal resolution.\n",
      "    dimensions(sizes): time(744), longitude(615), latitude(329)\n",
      "    variables(dimensions): float64 time(time), float64 LON(latitude, longitude), float64 LAT(latitude, longitude), float64 UFLX_AVE(time, latitude, longitude), float64 VFLX_AVE(time, latitude, longitude)\n",
      "    groups: \n",
      "----------\n",
      "2023-08-01 01:00:00 - 2023-09-01 00:00:00\n",
      "==========\n",
      "<class 'netCDF4._netCDF4.Dataset'>\n",
      "root group (NETCDF4_CLASSIC data model, file format HDF5):\n",
      "    title: Merged files for GFS sfc data between 20230901 01Z and 20231001 00Z\n",
      "Here the forecast hour 1 ~ 6 is aggregated for each forecast cycle (6 hour) for a hourly time series.\n",
      "    subtitle: Only selected variables for are merged here. The data is hourly with ~0.117 deg horizontal resolution.\n",
      "    dimensions(sizes): time(672), longitude(615), latitude(329)\n",
      "    variables(dimensions): float64 time(time), float64 LON(latitude, longitude), float64 LAT(latitude, longitude), float64 UFLX_AVE(time, latitude, longitude), float64 VFLX_AVE(time, latitude, longitude)\n",
      "    groups: \n",
      "----------\n",
      "2023-09-01 01:00:00 - 2023-10-01 00:00:00\n",
      "==========\n",
      "<class 'netCDF4._netCDF4.Dataset'>\n",
      "root group (NETCDF4_CLASSIC data model, file format HDF5):\n",
      "    title: Merged files for GFS sfc data between 20231001 01Z and 20231101 00Z\n",
      "Here the forecast hour 1 ~ 6 is aggregated for each forecast cycle (6 hour) for a hourly time series.\n",
      "    subtitle: Only selected variables for are merged here. The data is hourly with ~0.117 deg horizontal resolution.\n",
      "    dimensions(sizes): time(744), longitude(615), latitude(329)\n",
      "    variables(dimensions): float64 time(time), float64 LON(latitude, longitude), float64 LAT(latitude, longitude), float64 UFLX_AVE(time, latitude, longitude), float64 VFLX_AVE(time, latitude, longitude)\n",
      "    groups: \n",
      "----------\n",
      "2023-10-01 01:00:00 - 2023-11-01 00:00:00\n",
      "==========\n",
      "<class 'netCDF4._netCDF4.Dataset'>\n",
      "root group (NETCDF4_CLASSIC data model, file format HDF5):\n",
      "    title: Merged files for GFS sfc data between 20231101 01Z and 20231121 00Z\n",
      "Here the forecast hour 1 ~ 6 is aggregated for each forecast cycle (6 hour) for a hourly time series.\n",
      "    subtitle: Only selected variables for are merged here. The data is hourly with ~0.117 deg horizontal resolution.\n",
      "    dimensions(sizes): time(480), longitude(615), latitude(329)\n",
      "    variables(dimensions): float64 time(time), float64 LON(latitude, longitude), float64 LAT(latitude, longitude), float64 UFLX_AVE(time, latitude, longitude), float64 VFLX_AVE(time, latitude, longitude)\n",
      "    groups: \n",
      "----------\n",
      "2023-11-01 01:00:00 - 2023-11-21 00:00:00\n"
     ]
    }
   ],
   "source": [
    "''' Print file & time range '''\n",
    "for test in filenames:\n",
    "    ds = nc.Dataset(path+test)\n",
    "    print('='*10)\n",
    "    print(ds)\n",
    "    print('-'*10)\n",
    "    ds_keys = ds.variables.keys()\n",
    "    dtime = np.array([datetime.datetime.fromtimestamp(item) for item in ds.variables['time'][:]])\n",
    "    print(dtime[0],'-',dtime[-1])\n",
    "    ds.close()"
   ]
  }
 ],
 "metadata": {
  "kernelspec": {
   "display_name": "pycode",
   "language": "python",
   "name": "python3"
  },
  "language_info": {
   "codemirror_mode": {
    "name": "ipython",
    "version": 3
   },
   "file_extension": ".py",
   "mimetype": "text/x-python",
   "name": "python",
   "nbconvert_exporter": "python",
   "pygments_lexer": "ipython3",
   "version": "3.9.7"
  }
 },
 "nbformat": 4,
 "nbformat_minor": 2
}
