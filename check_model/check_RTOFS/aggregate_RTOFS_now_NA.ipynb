{
 "cells": [
  {
   "cell_type": "code",
   "execution_count": 1,
   "metadata": {},
   "outputs": [],
   "source": [
    "\"\"\"\" \n",
    "aggregate RTOFS data (which is used to force RTOFS) under smb://mule/disk3/projects/tc2022/\n",
    "named like:\n",
    "/mule/tc2022/RTOFS/study_area\n",
    "    /mule/tc2022/tc2023/RTOFS/study_area\n",
    "    /mule/tc2022/tc2024/RTOFS/study_area\n",
    "    /mule/tc2022/RTOFS/study_area\n",
    "    ocean u, v velocities are in the daily files with names like surface.now.20221102.nc\n",
    "    \"now\" signifies analysis data in this case, as opposed to forecasted data.\n",
    "\n",
    "to produce hourly momentum flux and surface ocean current data that offers\n",
    "a chance to evaluate wind work on currents at the GFS and RTOFS horizontal scales \n",
    "(~ 12km for GFS/ 0.117 deg)(~8 km for RTFS/ 0.08 deg)\n",
    "\"\"\"\n",
    "''' This is for North Atlantic domain in hurricane season: \n",
    "On Mule tc2022/tc2023 directory: Both GFS & RTOFS have data range between 102W-30W, 7.5-46N. \n",
    "In 2023,    GFS has data between 8/1-11/20 (missing 9/2, 9/3). \n",
    "            RTOFS has data between 7/26-11/21 (missing 8/21, 9/2-9/4, 11/5)\n",
    "            Note, The time of each RTOFS daily file in /Volumes/disk3/projects/tc2022/tc2023/RTOFS/study_area/ is one day prior to the date on showing in the filename. \n",
    "            EX: the 24 hours of data in surface.now.20230801.nc is 2023/07/31 0Z to 23Z. \n",
    "--> That is, we have both GFS & RTOFS for wind power calculation between \n",
    "            (1) 8/1-8/19\n",
    "            (2) 8/21-8/31\n",
    "            (3) 9/4-11/4\n",
    "'''\n",
    "import numpy as np\n",
    "import netCDF4 as nc\n",
    "import matplotlib\n",
    "import matplotlib.pyplot as plt\n",
    "import datetime\n",
    "import os\n",
    "import sys"
   ]
  },
  {
   "cell_type": "code",
   "execution_count": 2,
   "metadata": {},
   "outputs": [
    {
     "name": "stdout",
     "output_type": "stream",
     "text": [
      "Total of 20 dates will be aggregated.\n",
      "Looking at the following dates of analysis data:\n",
      " ['20231102', '20231103', '20231104', '20231105', '20231106', '20231107', '20231108', '20231109', '20231110', '20231111', '20231112', '20231113', '20231114', '20231115', '20231116', '20231117', '20231118', '20231119', '20231120', '20231121']\n"
     ]
    }
   ],
   "source": [
    "storm = 'Lee'\n",
    "year = '2023'\n",
    "data_type = 'surface.now.'\n",
    "path = '/Volumes/disk3/projects/tc2022/tc2023/RTOFS/study_area/'\n",
    "filenames_all = np.sort( os.listdir(path) )\n",
    "filenames = np.array([])\n",
    "for file in filenames_all:\n",
    "    if ('.nc' in file) & (file[:12] == data_type):\n",
    "        filenames = np.append(filenames, file)\n",
    "# print(len(filenames), filenames)\n",
    "# file_date_lim = [datetime.datetime(int(year),8,1), datetime.datetime(int(year),8,31)]\n",
    "# file_date_lim = [datetime.datetime(int(year),9,1), datetime.datetime(int(year),9,30)]\n",
    "# file_date_lim = [datetime.datetime(int(year),10,1), datetime.datetime(int(year),10,31)]\n",
    "file_date_lim = [datetime.datetime(int(year),11,1), datetime.datetime(int(year),11,20)]\n",
    "file_date_lim = [item+datetime.timedelta(days=1) for item in file_date_lim]\n",
    "nfiles = (file_date_lim[1]-file_date_lim[0]).days+1\n",
    "print('Total of',nfiles,'dates will be aggregated.')\n",
    "file_dates = [(file_date_lim[0]+datetime.timedelta(days=i)).strftime('%Y%m%d') for i in range(nfiles)]\n",
    "print('Looking at the following dates of analysis data:\\n',file_dates)"
   ]
  },
  {
   "cell_type": "code",
   "execution_count": 3,
   "metadata": {},
   "outputs": [
    {
     "name": "stdout",
     "output_type": "stream",
     "text": [
      "['MT', 'MT_bnds', 'DATE', 'X2300_3200', 'Y1600_2150', 'LATITUDE', 'LONGITUDE', 'LAYER', 'U_VELOCITY', 'V_VELOCITY', 'SST', 'SSS', 'SSH', 'SURFACE_BOUNDARY_LAYER_THICKNESS', 'MIXED_LAYER_THICKNESS']\n",
      "MT\n",
      "long_name\n",
      "ds.variables['MT'].long_name\n",
      "units\n",
      "ds.variables['MT'].units\n",
      "LATITUDE\n",
      "long_name\n",
      "ds.variables['LATITUDE'].long_name\n",
      "units\n",
      "ds.variables['LATITUDE'].units\n",
      "LONGITUDE\n",
      "long_name\n",
      "ds.variables['LONGITUDE'].long_name\n",
      "units\n",
      "ds.variables['LONGITUDE'].units\n",
      "LAYER\n",
      "units\n",
      "ds.variables['LAYER'].units\n",
      "U_VELOCITY\n",
      "long_name\n",
      "ds.variables['U_VELOCITY'].long_name\n",
      "units\n",
      "ds.variables['U_VELOCITY'].units\n",
      "V_VELOCITY\n",
      "long_name\n",
      "ds.variables['V_VELOCITY'].long_name\n",
      "units\n",
      "ds.variables['V_VELOCITY'].units\n",
      "MIXED_LAYER_THICKNESS\n",
      "long_name\n",
      "ds.variables['MIXED_LAYER_THICKNESS'].long_name\n",
      "units\n",
      "ds.variables['MIXED_LAYER_THICKNESS'].units\n",
      "15 variables in nc file & 7 variables are selected to append\n"
     ]
    }
   ],
   "source": [
    "''' Read one file a time to aggregate selected variables of interest'''\n",
    "str_vars = ['MT','LAYER','LONGITUDE','LATITUDE','U_VELOCITY','V_VELOCITY','MIXED_LAYER_THICKNESS']\n",
    "vars_nostack = ['LAYER','LONGITUDE','LATITUDE']\n",
    "''' Cread Dictionary'''\n",
    "vars_dic = {}\n",
    "vars_dic_attr = {}\n",
    "attr = ['long_name','units']#,'_FillValue']\n",
    "ds = nc.Dataset( path+data_type+year+'0802'+'.nc')\n",
    "nz = len(ds.variables['LAYER'])\n",
    "varnms = list( ds.variables.keys() )\n",
    "print(varnms)\n",
    "''' add empty items to the dictionary '''\n",
    "for i in range( len(varnms) ):\n",
    "    vkey = varnms[i]\n",
    "    if vkey in str_vars:\n",
    "        print(vkey)\n",
    "        item = ds.variables[vkey][:]\n",
    "        vars_dic[vkey] = np.empty( item.shape )\n",
    "        attrnms = ds.variables[vkey].ncattrs()\n",
    "        # print(attrnms)\n",
    "        ### record attributes\n",
    "        for a in range( len(attr) ):\n",
    "            # ds.variables[vkey].units\n",
    "            if attr[a] in attrnms:\n",
    "                print(attr[a])\n",
    "                str_eval = \"ds.variables['\" + vkey + \"'].\" + attr[a]\n",
    "                vars_dic_attr[vkey+'-'+attr[a]] = eval(str_eval)\n",
    "                print(str_eval)\n",
    "        # print(vkey, item.shape, vars_dic[vkey].shape)\n",
    "print(len(varnms),'variables in nc file &', len(vars_dic),'variables are selected to append')"
   ]
  },
  {
   "cell_type": "code",
   "execution_count": 4,
   "metadata": {},
   "outputs": [
    {
     "name": "stdout",
     "output_type": "stream",
     "text": [
      "Done appending surface.now.20231102.nc\n",
      "Done appending surface.now.20231103.nc\n",
      "Done appending surface.now.20231104.nc\n",
      "20231105 data file raise an exception\n",
      "Done appending surface.now.20231106.nc\n",
      "Done appending surface.now.20231107.nc\n",
      "Done appending surface.now.20231108.nc\n",
      "Done appending surface.now.20231109.nc\n",
      "Done appending surface.now.20231110.nc\n",
      "Done appending surface.now.20231111.nc\n",
      "Done appending surface.now.20231112.nc\n",
      "Done appending surface.now.20231113.nc\n",
      "Done appending surface.now.20231114.nc\n",
      "Done appending surface.now.20231115.nc\n",
      "Done appending surface.now.20231116.nc\n",
      "Done appending surface.now.20231117.nc\n",
      "Done appending surface.now.20231118.nc\n",
      "Done appending surface.now.20231119.nc\n",
      "Done appending surface.now.20231120.nc\n",
      "Done appending surface.now.20231121.nc\n",
      "There are  (456,) hours total.\n"
     ]
    }
   ],
   "source": [
    "### go through each (mostly daily) nc file & append the selected variables \n",
    "cnt = 0\n",
    "for f in range( len(file_dates) ):\n",
    "    try: # block raising an exception\n",
    "        ds = nc.Dataset( path+data_type+file_dates[f]+'.nc')\n",
    "        for i in range( len(varnms) ):\n",
    "            vkey = varnms[i]\n",
    "            if (vkey in str_vars) & (vkey not in vars_nostack):\n",
    "                # print(vkey)\n",
    "                vkey = varnms[i]\n",
    "                item_old = vars_dic[vkey]\n",
    "                item_app = ds.variables[vkey][:]\n",
    "                ### append in time dimension only\n",
    "                if cnt == 0:\n",
    "                    vars_dic[vkey] = item_app\n",
    "                else:\n",
    "                    vars_dic[vkey] = np.concatenate( (item_old, item_app),axis=0 )\n",
    "                if cnt == 0: ### for variables that do not need to append in time\n",
    "                    for var_nostack in vars_nostack:\n",
    "                        vars_dic[var_nostack] = ds.variables[var_nostack][:]\n",
    "                # if vkey == 'MT':\n",
    "                #     test = ds.variables['MT'][:]\n",
    "                #     print('datetime of this file:',\\\n",
    "                #           [datetime.datetime(1900,12,31)+datetime.timedelta(days=item) for item in test])\n",
    "                #     break\n",
    "        ds.close()\n",
    "        print('Done appending',data_type+file_dates[f]+'.nc')\n",
    "        cnt = cnt + 1\n",
    "    except: # doing nothing on exception\n",
    "        print(file_dates[f],'data file raise an exception')\n",
    "        pass\n",
    "print('There are ',vars_dic['MT'].shape,'hours total.')"
   ]
  },
  {
   "cell_type": "code",
   "execution_count": 5,
   "metadata": {},
   "outputs": [
    {
     "name": "stdout",
     "output_type": "stream",
     "text": [
      "(456, 1, 551, 901)\n",
      "check time of surface.now.20231121.nc :\n",
      " [20231120.         20231120.04166667 20231120.08333333 20231120.125\n",
      " 20231120.16666667 20231120.20833333 20231120.25       20231120.29166667\n",
      " 20231120.33333333 20231120.375      20231120.41666667 20231120.45833333\n",
      " 20231120.5        20231120.54166667 20231120.58333333 20231120.625\n",
      " 20231120.66666667 20231120.70833333 20231120.75       20231120.79166667\n",
      " 20231120.83333333 20231120.875      20231120.91666667 20231120.95833333]\n"
     ]
    },
    {
     "data": {
      "image/png": "[encoded data removed]",
      "text/plain": [
       "<Figure size 432x288 with 1 Axes>"
      ]
     },
     "metadata": {
      "needs_background": "light"
     },
     "output_type": "display_data"
    }
   ],
   "source": [
    "''' convert time to (1) datetime & (2) timestamp for output '''\n",
    "dtime = np.array([datetime.datetime(1900,12,31)+datetime.timedelta(days=item) for item in vars_dic['MT']])\n",
    "time_out = np.array( [item.timestamp() for item in dtime] )\n",
    "plt.plot(dtime)\n",
    "print(vars_dic['V_VELOCITY'].shape)\n",
    "### Also check DATE in the nc file!\n",
    "ds = nc.Dataset( path+data_type+file_dates[f]+'.nc')\n",
    "test = ds.variables['DATE'][:]\n",
    "print('check time of',data_type+file_dates[f]+'.nc :\\n',test)"
   ]
  },
  {
   "cell_type": "code",
   "execution_count": 6,
   "metadata": {},
   "outputs": [
    {
     "name": "stdout",
     "output_type": "stream",
     "text": [
      "Creating a new file: RTOFS.merge.surface.now.20231101-20231120.nc\n",
      "<class 'netCDF4._netCDF4.Dataset'>\n",
      "root group (NETCDF4_CLASSIC data model, file format HDF5):\n",
      "    dimensions(sizes): \n",
      "    variables(dimensions): \n",
      "    groups: \n",
      "('time', <class 'netCDF4._netCDF4.Dimension'>: name = 'time', size = 456)\n",
      "('depth', <class 'netCDF4._netCDF4.Dimension'>: name = 'depth', size = 1)\n",
      "('longitude', <class 'netCDF4._netCDF4.Dimension'>: name = 'longitude', size = 901)\n",
      "('latitude', <class 'netCDF4._netCDF4.Dimension'>: name = 'latitude', size = 551)\n",
      "Merged files for RTOFS fromsurface.now.20231102.nc to  and surface.now.20231121.nc \n",
      "Note that the time of each daily file in /Volumes/disk3/projects/tc2022/tc2023/RTOFS/study_area/ \n",
      "is one day prior to the date on showing in the filename. \n",
      "EX: the 24 hours of data in surface.now.20230801.nc is 2023/07/31 0Z to 23Z.\n",
      "The actual time range of this file is as the filename.\n",
      "Only selected variables for are merged here. The data is hourly with 0.08 deg horizontal resolution.\n",
      "<class 'netCDF4._netCDF4.Dataset'>\n",
      "root group (NETCDF4_CLASSIC data model, file format HDF5):\n",
      "    title: Merged files for RTOFS fromsurface.now.20231102.nc to  and surface.now.20231121.nc \n",
      "Note that the time of each daily file in /Volumes/disk3/projects/tc2022/tc2023/RTOFS/study_area/ \n",
      "is one day prior to the date on showing in the filename. \n",
      "EX: the 24 hours of data in surface.now.20230801.nc is 2023/07/31 0Z to 23Z.\n",
      "The actual time range of this file is as the filename.\n",
      "    subtitle: Only selected variables for are merged here. The data is hourly with 0.08 deg horizontal resolution.\n",
      "    dimensions(sizes): time(456), depth(1), longitude(901), latitude(551)\n",
      "    variables(dimensions): \n",
      "    groups: \n"
     ]
    }
   ],
   "source": [
    "''' Write merged RTOFS data to netcdf file'''\n",
    "try: ncfile.close()  # just to be safe, make sure dataset is not already open.\n",
    "except: pass\n",
    "ncfname_out = 'RTOFS.merge.'+data_type+dtime[0].strftime('%Y%m%d')+'-'\\\n",
    "    +dtime[-1].strftime('%Y%m%d')+'.nc'\n",
    "print('Creating a new file:',ncfname_out)\n",
    "ncfile = nc.Dataset(ncfname_out,mode='w',format='NETCDF4_CLASSIC') \n",
    "print(ncfile)\n",
    "### creating dimensions\n",
    "time_dim = ncfile.createDimension('time', len(dtime)) # unlimited axis (can be appended to).\n",
    "depth_dim = ncfile.createDimension('depth', len(vars_dic['LAYER'])) # depth axis\n",
    "lon_dim = ncfile.createDimension('longitude', vars_dic['U_VELOCITY'].shape[3])\n",
    "lat_dim = ncfile.createDimension('latitude', vars_dic['U_VELOCITY'].shape[2])\n",
    "for dim in ncfile.dimensions.items():\n",
    "    print(dim)\n",
    "### creating attributes\n",
    "ncfile.title='Merged files for RTOFS from'+data_type+file_dates[0]+'.nc'+' to '+\\\n",
    "    ' and '+data_type+file_dates[-1]+'.nc \\n'+\\\n",
    "    'Note that the time of each daily file in /Volumes/disk3/projects/tc2022/tc2023/RTOFS/study_area/ \\n'+\\\n",
    "        'is one day prior to the date on showing in the filename. \\n'+\\\n",
    "            'EX: the 24 hours of data in surface.now.20230801.nc is 2023/07/31 0Z to 23Z.\\n'+\\\n",
    "    'The actual time range of this file is as the filename.'\n",
    "print(ncfile.title)\n",
    "ncfile.subtitle=\"Only selected variables for are merged here. The data is hourly with 0.08 deg horizontal resolution.\"\n",
    "print(ncfile.subtitle)\n",
    "print(ncfile)\n",
    "### move the writing data to new variables\n",
    "depth_out = vars_dic['LAYER']"
   ]
  },
  {
   "cell_type": "code",
   "execution_count": 7,
   "metadata": {},
   "outputs": [
    {
     "name": "stdout",
     "output_type": "stream",
     "text": [
      "LONGITUDE\n",
      "0 LONGITUDE= ncfile.createVariable('LONGITUDE', np.float64, ('latitude','longitude'))\n",
      "LATITUDE\n",
      "1 LATITUDE= ncfile.createVariable('LATITUDE', np.float64, ('latitude','longitude'))\n",
      "U_VELOCITY\n",
      "2 U_VELOCITY= ncfile.createVariable('U_VELOCITY', np.float64, ('time','depth','latitude','longitude'))\n",
      "V_VELOCITY\n",
      "3 V_VELOCITY= ncfile.createVariable('V_VELOCITY', np.float64, ('time','depth','latitude','longitude'))\n",
      "MIXED_LAYER_THICKNESS\n",
      "4 MIXED_LAYER_THICKNESS= ncfile.createVariable('MIXED_LAYER_THICKNESS', np.float64, ('time','latitude','longitude'))\n"
     ]
    }
   ],
   "source": [
    "### Creating variables\n",
    "depth = ncfile.createVariable('depth', np.float64, ('depth',))\n",
    "depth.units = 'meter'\n",
    "depth.long_name = 'depth'\n",
    "time = ncfile.createVariable('time', np.float64, ('time',))\n",
    "time.units = 'seconds since '+year+'-01-01'\n",
    "time.long_name = 'time'\n",
    "vars_names = ['LONGITUDE','LATITUDE','U_VELOCITY','V_VELOCITY','MIXED_LAYER_THICKNESS']\n",
    "### 2: (Y, X) 3: (time, Y, X) 4: (time, depth, Y, X)\n",
    "dim_cat = [2,2,4,4,3]\n",
    "for i, var_name in enumerate(vars_names):\n",
    "    print(var_name)\n",
    "    ### create variables with respective dimensions categorized by dim_cat\n",
    "    if dim_cat[i] == 2:\n",
    "        str_exec = var_name + \"= ncfile.createVariable('\" + var_name + \"', np.float64, ('\" + 'latitude' + \"','\"+ 'longitude' +\"'))\"\n",
    "    elif dim_cat[i] == 3:\n",
    "        str_exec = var_name + \"= ncfile.createVariable('\" + var_name + \\\n",
    "                    \"', np.float64, ('\" + 'time' + \"','\"+ 'latitude' + \"','\" + 'longitude' +\"'))\"\n",
    "    elif dim_cat[i] == 4:\n",
    "        str_exec = var_name + \"= ncfile.createVariable('\" + var_name + \\\n",
    "                    \"', np.float64, ('\" + 'time' + \"','\"+ 'depth' + \"','\"+ 'latitude' + \"','\" + 'longitude' +\"'))\"\n",
    "    exec(str_exec)\n",
    "    print(i,str_exec)\n",
    "    ### add attributes\n",
    "attr_keys = vars_dic_attr.keys()\n",
    "str_no = ['MT','LAYER']\n",
    "for attr_key in attr_keys:\n",
    "    i_ = attr_key.find('-')\n",
    "    if attr_key[:i_] not in str_no:\n",
    "        str_exec = attr_key.replace('-','.') + \" = '\"+ str(vars_dic_attr[attr_key]) + \"'\"\n",
    "        exec(str_exec)"
   ]
  },
  {
   "cell_type": "code",
   "execution_count": 8,
   "metadata": {},
   "outputs": [
    {
     "name": "stdout",
     "output_type": "stream",
     "text": [
      "<class 'netCDF4._netCDF4.Dataset'>\n",
      "root group (NETCDF4_CLASSIC data model, file format HDF5):\n",
      "    title: Merged files for RTOFS fromsurface.now.20231102.nc to  and surface.now.20231121.nc \n",
      "Note that the time of each daily file in /Volumes/disk3/projects/tc2022/tc2023/RTOFS/study_area/ \n",
      "is one day prior to the date on showing in the filename. \n",
      "EX: the 24 hours of data in surface.now.20230801.nc is 2023/07/31 0Z to 23Z.\n",
      "The actual time range of this file is as the filename.\n",
      "    subtitle: Only selected variables for are merged here. The data is hourly with 0.08 deg horizontal resolution.\n",
      "    dimensions(sizes): time(456), depth(1), longitude(901), latitude(551)\n",
      "    variables(dimensions): float64 depth(depth), float64 time(time), float64 LONGITUDE(latitude, longitude), float64 LATITUDE(latitude, longitude), float64 U_VELOCITY(time, depth, latitude, longitude), float64 V_VELOCITY(time, depth, latitude, longitude), float64 MIXED_LAYER_THICKNESS(time, latitude, longitude)\n",
      "    groups: \n",
      "Dataset is closed!\n"
     ]
    }
   ],
   "source": [
    "### writing data\n",
    "# Note: the \":\" is necessary in these \"write\" statements\n",
    "depth[:] = vars_dic['LAYER']\n",
    "time[:] = time_out\n",
    "for i, var_name in enumerate(vars_names):\n",
    "    if dim_cat[i] == 2:\n",
    "        str_exec = var_name + \"[:,:]= vars_dic['\" + var_name + \"']\"\n",
    "    elif dim_cat[i] == 3:\n",
    "        str_exec = var_name + \"[:,:,:]= vars_dic['\" + var_name + \"']\"\n",
    "    elif dim_cat[i] == 4:\n",
    "        str_exec = var_name + \"[:,:,:,:]= vars_dic['\" + var_name + \"']\"\n",
    "    exec(str_exec)\n",
    "print(ncfile)\n",
    "# close the Dataset.\n",
    "ncfile.close(); print('Dataset is closed!')"
   ]
  },
  {
   "cell_type": "code",
   "execution_count": 9,
   "metadata": {},
   "outputs": [
    {
     "name": "stdout",
     "output_type": "stream",
     "text": [
      "(456, 551, 901)\n"
     ]
    }
   ],
   "source": [
    "print(vars_dic['MIXED_LAYER_THICKNESS'].shape)"
   ]
  }
 ],
 "metadata": {
  "kernelspec": {
   "display_name": "pycode",
   "language": "python",
   "name": "python3"
  },
  "language_info": {
   "codemirror_mode": {
    "name": "ipython",
    "version": 3
   },
   "file_extension": ".py",
   "mimetype": "text/x-python",
   "name": "python",
   "nbconvert_exporter": "python",
   "pygments_lexer": "ipython3",
   "version": "3.9.7"
  }
 },
 "nbformat": 4,
 "nbformat_minor": 2
}
