{
 "cells": [
  {
   "cell_type": "code",
   "execution_count": 1,
   "metadata": {},
   "outputs": [],
   "source": [
    "\"\"\"\" \n",
    "aggregate RTOFS data (which is used to force RTOFS) under smb://mule/disk3/projects/tc2022/\n",
    "named like:\n",
    "/mule/tc2022/RTOFS/study_area\n",
    "    /mule/tc2022/tc2023/RTOFS/study_area\n",
    "    /mule/tc2022/tc2024/RTOFS/study_area\n",
    "    /mule/tc2022/RTOFS/study_area\n",
    "    ocean u, v velocities are in the daily files with names like surface.now.20221102.nc\n",
    "    \"now\" signifies analysis data in this case, as opposed to forecasted data.\n",
    "\n",
    "to produce hourly momentum flux and surface ocean current data that offers\n",
    "a chance to evaluate wind work on currents at the GFS and RTOFS horizontal scales \n",
    "(~ 12km for GFS/ 0.117 deg)(~8 km for RTFS/ 0.08 deg)\n",
    "\"\"\"\n",
    "import numpy as np\n",
    "import netCDF4 as nc\n",
    "import matplotlib\n",
    "import matplotlib.pyplot as plt\n",
    "import datetime\n",
    "import os\n",
    "import sys"
   ]
  },
  {
   "cell_type": "code",
   "execution_count": 2,
   "metadata": {},
   "outputs": [
    {
     "name": "stdout",
     "output_type": "stream",
     "text": [
      "120 ['surface.now.20230720.nc' 'surface.now.20230721.nc'\n",
      " 'surface.now.20230722.nc' 'surface.now.20230723.nc'\n",
      " 'surface.now.20230724.nc' 'surface.now.20230725.nc'\n",
      " 'surface.now.20230726.nc' 'surface.now.20230727.nc'\n",
      " 'surface.now.20230728.nc' 'surface.now.20230729.nc'\n",
      " 'surface.now.20230730.nc' 'surface.now.20230731.nc'\n",
      " 'surface.now.20230801.nc' 'surface.now.20230802.nc'\n",
      " 'surface.now.20230803.nc' 'surface.now.20230804.nc'\n",
      " 'surface.now.20230805.nc' 'surface.now.20230806.nc'\n",
      " 'surface.now.20230807.nc' 'surface.now.20230808.nc'\n",
      " 'surface.now.20230809.nc' 'surface.now.20230810.nc'\n",
      " 'surface.now.20230811.nc' 'surface.now.20230812.nc'\n",
      " 'surface.now.20230813.nc' 'surface.now.20230814.nc'\n",
      " 'surface.now.20230815.nc' 'surface.now.20230816.nc'\n",
      " 'surface.now.20230817.nc' 'surface.now.20230818.nc'\n",
      " 'surface.now.20230819.nc' 'surface.now.20230820.nc'\n",
      " 'surface.now.20230822.nc' 'surface.now.20230823.nc'\n",
      " 'surface.now.20230824.nc' 'surface.now.20230825.nc'\n",
      " 'surface.now.20230826.nc' 'surface.now.20230827.nc'\n",
      " 'surface.now.20230828.nc' 'surface.now.20230829.nc'\n",
      " 'surface.now.20230830.nc' 'surface.now.20230831.nc'\n",
      " 'surface.now.20230901.nc' 'surface.now.20230905.nc'\n",
      " 'surface.now.20230906.nc' 'surface.now.20230907.nc'\n",
      " 'surface.now.20230908.nc' 'surface.now.20230909.nc'\n",
      " 'surface.now.20230910.nc' 'surface.now.20230911.nc'\n",
      " 'surface.now.20230912.nc' 'surface.now.20230913.nc'\n",
      " 'surface.now.20230914.nc' 'surface.now.20230915.nc'\n",
      " 'surface.now.20230916.nc' 'surface.now.20230917.nc'\n",
      " 'surface.now.20230918.nc' 'surface.now.20230919.nc'\n",
      " 'surface.now.20230920.nc' 'surface.now.20230921.nc'\n",
      " 'surface.now.20230922.nc' 'surface.now.20230923.nc'\n",
      " 'surface.now.20230924.nc' 'surface.now.20230925.nc'\n",
      " 'surface.now.20230926.nc' 'surface.now.20230927.nc'\n",
      " 'surface.now.20230928.nc' 'surface.now.20230929.nc'\n",
      " 'surface.now.20230930.nc' 'surface.now.20231001.nc'\n",
      " 'surface.now.20231002.nc' 'surface.now.20231003.nc'\n",
      " 'surface.now.20231004.nc' 'surface.now.20231005.nc'\n",
      " 'surface.now.20231006.nc' 'surface.now.20231007.nc'\n",
      " 'surface.now.20231008.nc' 'surface.now.20231009.nc'\n",
      " 'surface.now.20231010.nc' 'surface.now.20231011.nc'\n",
      " 'surface.now.20231012.nc' 'surface.now.20231013.nc'\n",
      " 'surface.now.20231014.nc' 'surface.now.20231015.nc'\n",
      " 'surface.now.20231016.nc' 'surface.now.20231017.nc'\n",
      " 'surface.now.20231018.nc' 'surface.now.20231019.nc'\n",
      " 'surface.now.20231020.nc' 'surface.now.20231021.nc'\n",
      " 'surface.now.20231022.nc' 'surface.now.20231023.nc'\n",
      " 'surface.now.20231024.nc' 'surface.now.20231025.nc'\n",
      " 'surface.now.20231026.nc' 'surface.now.20231027.nc'\n",
      " 'surface.now.20231028.nc' 'surface.now.20231029.nc'\n",
      " 'surface.now.20231030.nc' 'surface.now.20231031.nc'\n",
      " 'surface.now.20231101.nc' 'surface.now.20231102.nc'\n",
      " 'surface.now.20231103.nc' 'surface.now.20231104.nc'\n",
      " 'surface.now.20231106.nc' 'surface.now.20231107.nc'\n",
      " 'surface.now.20231108.nc' 'surface.now.20231109.nc'\n",
      " 'surface.now.20231110.nc' 'surface.now.20231111.nc'\n",
      " 'surface.now.20231112.nc' 'surface.now.20231113.nc'\n",
      " 'surface.now.20231114.nc' 'surface.now.20231115.nc'\n",
      " 'surface.now.20231116.nc' 'surface.now.20231117.nc'\n",
      " 'surface.now.20231118.nc' 'surface.now.20231119.nc'\n",
      " 'surface.now.20231120.nc' 'surface.now.20231121.nc']\n",
      "18\n",
      "['20230905', '20230906', '20230907', '20230908', '20230909', '20230910', '20230911', '20230912', '20230913', '20230914', '20230915', '20230916', '20230917', '20230918', '20230919', '20230920', '20230921', '20230922']\n"
     ]
    }
   ],
   "source": [
    "storm = 'Lee'\n",
    "year = '2023'\n",
    "data_type = 'surface.now.'\n",
    "path = '/Volumes/disk3/projects/tc2022/tc2023/RTOFS/study_area/'\n",
    "filenames_all = np.sort( os.listdir(path) )\n",
    "filenames = np.array([])\n",
    "for file in filenames_all:\n",
    "    if ('.nc' in file) & (file[:12] == data_type):\n",
    "        filenames = np.append(filenames, file)\n",
    "print(len(filenames), filenames)\n",
    "\n",
    "datelim = [datetime.datetime(int(year),9,5), datetime.datetime(int(year),9,22)]\n",
    "nfiles = (datelim[1]-datelim[0]).days+1\n",
    "print(nfiles)\n",
    "file_dates = [(datelim[0]+datetime.timedelta(days=i)).strftime('%Y%m%d') for i in range(nfiles)]\n",
    "print(file_dates)"
   ]
  },
  {
   "cell_type": "code",
   "execution_count": 3,
   "metadata": {},
   "outputs": [
    {
     "name": "stdout",
     "output_type": "stream",
     "text": [
      "['MT', 'MT_bnds', 'DATE', 'X2300_3200', 'Y1600_2150', 'LATITUDE', 'LONGITUDE', 'LAYER', 'U_VELOCITY', 'V_VELOCITY', 'SST', 'SSS', 'SSH', 'SURFACE_BOUNDARY_LAYER_THICKNESS', 'MIXED_LAYER_THICKNESS']\n",
      "MT\n",
      "long_name\n",
      "ds.variables['MT'].long_name\n",
      "units\n",
      "ds.variables['MT'].units\n",
      "LATITUDE\n",
      "long_name\n",
      "ds.variables['LATITUDE'].long_name\n",
      "units\n",
      "ds.variables['LATITUDE'].units\n",
      "LONGITUDE\n",
      "long_name\n",
      "ds.variables['LONGITUDE'].long_name\n",
      "units\n",
      "ds.variables['LONGITUDE'].units\n",
      "LAYER\n",
      "units\n",
      "ds.variables['LAYER'].units\n",
      "U_VELOCITY\n",
      "long_name\n",
      "ds.variables['U_VELOCITY'].long_name\n",
      "units\n",
      "ds.variables['U_VELOCITY'].units\n",
      "V_VELOCITY\n",
      "long_name\n",
      "ds.variables['V_VELOCITY'].long_name\n",
      "units\n",
      "ds.variables['V_VELOCITY'].units\n",
      "MIXED_LAYER_THICKNESS\n",
      "long_name\n",
      "ds.variables['MIXED_LAYER_THICKNESS'].long_name\n",
      "units\n",
      "ds.variables['MIXED_LAYER_THICKNESS'].units\n",
      "15 variables in nc file & 7 variables are selected to append\n"
     ]
    }
   ],
   "source": [
    "''' Read one file a time to aggregate selected variables of interest'''\n",
    "str_vars = ['MT','LAYER','LONGITUDE','LATITUDE','U_VELOCITY','V_VELOCITY','MIXED_LAYER_THICKNESS']\n",
    "vars_nostack = ['LAYER','LONGITUDE','LATITUDE']\n",
    "''' Cread Dictionary'''\n",
    "vars_dic = {}\n",
    "vars_dic_attr = {}\n",
    "attr = ['long_name','units']#,'_FillValue']\n",
    "ds = nc.Dataset( path+data_type+file_dates[0]+'.nc')\n",
    "nz = len(ds.variables['LAYER'])\n",
    "varnms = list( ds.variables.keys() )\n",
    "print(varnms)\n",
    "''' add empty items to the dictionary '''\n",
    "for i in range( len(varnms) ):\n",
    "    vkey = varnms[i]\n",
    "    if vkey in str_vars:\n",
    "        print(vkey)\n",
    "        item = ds.variables[vkey][:]\n",
    "        vars_dic[vkey] = np.empty( item.shape )\n",
    "        attrnms = ds.variables[vkey].ncattrs()\n",
    "        # print(attrnms)\n",
    "        ### record attributes\n",
    "        for a in range( len(attr) ):\n",
    "            # ds.variables[vkey].units\n",
    "            if attr[a] in attrnms:\n",
    "                print(attr[a])\n",
    "                str_eval = \"ds.variables['\" + vkey + \"'].\" + attr[a]\n",
    "                vars_dic_attr[vkey+'-'+attr[a]] = eval(str_eval)\n",
    "                print(str_eval)\n",
    "        # print(vkey, item.shape, vars_dic[vkey].shape)\n",
    "print(len(varnms),'variables in nc file &', len(vars_dic),'variables are selected to append')"
   ]
  },
  {
   "cell_type": "code",
   "execution_count": null,
   "metadata": {},
   "outputs": [
    {
     "name": "stdout",
     "output_type": "stream",
     "text": [
      "Done 20230905\n",
      "Done 20230906\n",
      "Done 20230907\n",
      "Done 20230908\n",
      "Done 20230909\n",
      "Done 20230910\n",
      "Done 20230911\n",
      "Done 20230912\n",
      "Done 20230913\n",
      "Done 20230914\n",
      "Done 20230915\n",
      "Done 20230916\n",
      "Done 20230917\n",
      "Done 20230918\n",
      "Done 20230919\n",
      "Done 20230920\n",
      "Done 20230921\n",
      "Done 20230922\n",
      "There are  (432,) hours total.\n"
     ]
    }
   ],
   "source": [
    "### go through each (mostly daily) nc file & append the selected variables \n",
    "cnt = 0\n",
    "for f in range( len(file_dates) ):\n",
    "    try: # block raising an exception\n",
    "        ds = nc.Dataset( path+data_type+file_dates[f]+'.nc')\n",
    "        for i in range( len(varnms) ):\n",
    "            vkey = varnms[i]\n",
    "            if (vkey in str_vars) & (vkey not in vars_nostack):\n",
    "                # print(vkey)\n",
    "                vkey = varnms[i]\n",
    "                item_old = vars_dic[vkey]\n",
    "                item_app = ds.variables[vkey][:]\n",
    "                ### append in time dimension only\n",
    "                if cnt == 0:\n",
    "                    vars_dic[vkey] = item_app\n",
    "                else:\n",
    "                    vars_dic[vkey] = np.concatenate( (item_old, item_app),axis=0 )\n",
    "                if cnt == 0: ### for variables that do not need to append in time\n",
    "                    for var_nostack in vars_nostack:\n",
    "                        vars_dic[var_nostack] = ds.variables[var_nostack][:]\n",
    "        ds.close()\n",
    "        print('Done',file_dates[f])\n",
    "        cnt = cnt + 1\n",
    "    except: # doing nothing on exception\n",
    "        print(file_dates[f],'data file raise an exception')\n",
    "        pass\n",
    "print('There are ',vars_dic['MT'].shape,'hours total.')"
   ]
  },
  {
   "cell_type": "code",
   "execution_count": 5,
   "metadata": {},
   "outputs": [
    {
     "name": "stdout",
     "output_type": "stream",
     "text": [
      "(432, 1, 551, 901)\n",
      "20230922\n",
      "[20230921.         20230921.04166667 20230921.08333333 20230921.125\n",
      " 20230921.16666667 20230921.20833333 20230921.25       20230921.29166667\n",
      " 20230921.33333333 20230921.375      20230921.41666667 20230921.45833333\n",
      " 20230921.5        20230921.54166667 20230921.58333333 20230921.625\n",
      " 20230921.66666667 20230921.70833333 20230921.75       20230921.79166667\n",
      " 20230921.83333333 20230921.875      20230921.91666667 20230921.95833333]\n"
     ]
    },
    {
     "data": {
      "image/png": "[encoded data removed]",
      "text/plain": [
       "<Figure size 432x288 with 1 Axes>"
      ]
     },
     "metadata": {
      "needs_background": "light"
     },
     "output_type": "display_data"
    }
   ],
   "source": [
    "dtime = np.array([datetime.datetime(1900,12,31)+datetime.timedelta(days=i) for i in vars_dic['MT']])\n",
    "time_out = np.array( [(i-datetime.datetime(int(year),1,1)).total_seconds() for i in dtime] )\n",
    "plt.plot(dtime)\n",
    "print(vars_dic['V_VELOCITY'].shape)\n",
    "### Also check DATE in the nc file!\n",
    "print(file_dates[f])\n",
    "ds = nc.Dataset( path+data_type+file_dates[f]+'.nc')\n",
    "test = ds.variables['DATE'][:]\n",
    "print(test)"
   ]
  },
  {
   "cell_type": "code",
   "execution_count": null,
   "metadata": {},
   "outputs": [
    {
     "name": "stdout",
     "output_type": "stream",
     "text": [
      "<class 'netCDF4._netCDF4.Dataset'>\n",
      "root group (NETCDF4_CLASSIC data model, file format HDF5):\n",
      "    dimensions(sizes): \n",
      "    variables(dimensions): \n",
      "    groups: \n",
      "('time', <class 'netCDF4._netCDF4.Dimension'>: name = 'time', size = 432)\n",
      "('depth', <class 'netCDF4._netCDF4.Dimension'>: name = 'depth', size = 1)\n",
      "('longitude', <class 'netCDF4._netCDF4.Dimension'>: name = 'longitude', size = 901)\n",
      "('latitude', <class 'netCDF4._netCDF4.Dimension'>: name = 'latitude', size = 551)\n",
      "Merged files for RTOFS surface.now. data between 20230905 and 20230922\n",
      "Only selected variables for are merged here. The data is hourly with 0.08 deg horizontal resolution.\n",
      "<class 'netCDF4._netCDF4.Dataset'>\n",
      "root group (NETCDF4_CLASSIC data model, file format HDF5):\n",
      "    title: Merged files for RTOFS surface.now. data between 20230905 and 20230922\n",
      "    subtitle: Only selected variables for are merged here. The data is hourly with 0.08 deg horizontal resolution.\n",
      "    dimensions(sizes): time(432), depth(1), longitude(901), latitude(551)\n",
      "    variables(dimensions): \n",
      "    groups: \n"
     ]
    }
   ],
   "source": [
    "''' Write merged RTOFS data to netcdf file'''\n",
    "try: ncfile.close()  # just to be safe, make sure dataset is not already open.\n",
    "except: pass\n",
    "ncfname_out = 'RTOFS.merge.'+data_type+file_dates[0]+'-'+file_dates[-1]+'.nc'\n",
    "ncfile = nc.Dataset(ncfname_out,mode='w',format='NETCDF4_CLASSIC') \n",
    "print(ncfile)\n",
    "### creating dimensions\n",
    "time_dim = ncfile.createDimension('time', len(dtime)) # unlimited axis (can be appended to).\n",
    "depth_dim = ncfile.createDimension('depth', len(vars_dic['LAYER'])) # depth axis\n",
    "lon_dim = ncfile.createDimension('longitude', vars_dic['U_VELOCITY'].shape[3])\n",
    "lat_dim = ncfile.createDimension('latitude', vars_dic['U_VELOCITY'].shape[2])\n",
    "for dim in ncfile.dimensions.items():\n",
    "    print(dim)\n",
    "### creating attributes\n",
    "ncfile.title='Merged files for RTOFS '+data_type+' data between '+file_dates[0]+' and '+file_dates[-1]\n",
    "print(ncfile.title)\n",
    "ncfile.subtitle=\"Only selected variables for are merged here. The data is hourly with 0.08 deg horizontal resolution.\"\n",
    "print(ncfile.subtitle)\n",
    "print(ncfile)\n",
    "### move the writing data to new variables\n",
    "depth_out = vars_dic['LAYER']"
   ]
  },
  {
   "cell_type": "code",
   "execution_count": 7,
   "metadata": {},
   "outputs": [
    {
     "name": "stdout",
     "output_type": "stream",
     "text": [
      "LONGITUDE\n",
      "0 LONGITUDE= ncfile.createVariable('LONGITUDE', np.float64, ('latitude','longitude'))\n",
      "LATITUDE\n",
      "1 LATITUDE= ncfile.createVariable('LATITUDE', np.float64, ('latitude','longitude'))\n",
      "U_VELOCITY\n",
      "2 U_VELOCITY= ncfile.createVariable('U_VELOCITY', np.float64, ('time','depth','latitude','longitude'))\n",
      "V_VELOCITY\n",
      "3 V_VELOCITY= ncfile.createVariable('V_VELOCITY', np.float64, ('time','depth','latitude','longitude'))\n",
      "MIXED_LAYER_THICKNESS\n",
      "4 MIXED_LAYER_THICKNESS= ncfile.createVariable('MIXED_LAYER_THICKNESS', np.float64, ('time','latitude','longitude'))\n"
     ]
    }
   ],
   "source": [
    "### Creating variables\n",
    "depth = ncfile.createVariable('depth', np.float64, ('depth',))\n",
    "depth.units = 'meter'\n",
    "depth.long_name = 'depth'\n",
    "time = ncfile.createVariable('time', np.float64, ('time',))\n",
    "time.units = 'seconds since '+year+'-01-01'\n",
    "time.long_name = 'time'\n",
    "vars_names = ['LONGITUDE','LATITUDE','U_VELOCITY','V_VELOCITY','MIXED_LAYER_THICKNESS']\n",
    "### 2: (Y, X) 3: (time, Y, X) 4: (time, depth, Y, X)\n",
    "dim_cat = [2,2,4,4,3]\n",
    "for i, var_name in enumerate(vars_names):\n",
    "    print(var_name)\n",
    "    ### create variables with respective dimensions categorized by dim_cat\n",
    "    if dim_cat[i] == 2:\n",
    "        str_exec = var_name + \"= ncfile.createVariable('\" + var_name + \"', np.float64, ('\" + 'latitude' + \"','\"+ 'longitude' +\"'))\"\n",
    "    elif dim_cat[i] == 3:\n",
    "        str_exec = var_name + \"= ncfile.createVariable('\" + var_name + \\\n",
    "                    \"', np.float64, ('\" + 'time' + \"','\"+ 'latitude' + \"','\" + 'longitude' +\"'))\"\n",
    "    elif dim_cat[i] == 4:\n",
    "        str_exec = var_name + \"= ncfile.createVariable('\" + var_name + \\\n",
    "                    \"', np.float64, ('\" + 'time' + \"','\"+ 'depth' + \"','\"+ 'latitude' + \"','\" + 'longitude' +\"'))\"\n",
    "    exec(str_exec)\n",
    "    print(i,str_exec)\n",
    "    ### add attributes\n",
    "attr_keys = vars_dic_attr.keys()\n",
    "str_no = ['MT','LAYER']\n",
    "for attr_key in attr_keys:\n",
    "    i_ = attr_key.find('-')\n",
    "    if attr_key[:i_] not in str_no:\n",
    "        str_exec = attr_key.replace('-','.') + \" = '\"+ str(vars_dic_attr[attr_key]) + \"'\"\n",
    "        exec(str_exec)"
   ]
  },
  {
   "cell_type": "code",
   "execution_count": 8,
   "metadata": {},
   "outputs": [
    {
     "name": "stdout",
     "output_type": "stream",
     "text": [
      "<class 'netCDF4._netCDF4.Dataset'>\n",
      "root group (NETCDF4_CLASSIC data model, file format HDF5):\n",
      "    title: Merged files for RTOFS surface.now. data between 20230905 and 20230922\n",
      "    subtitle: Only selected variables for are merged here. The data is hourly with 0.08 deg horizontal resolution.\n",
      "    dimensions(sizes): time(432), depth(1), longitude(901), latitude(551)\n",
      "    variables(dimensions): float64 depth(depth), float64 time(time), float64 LONGITUDE(latitude, longitude), float64 LATITUDE(latitude, longitude), float64 U_VELOCITY(time, depth, latitude, longitude), float64 V_VELOCITY(time, depth, latitude, longitude), float64 MIXED_LAYER_THICKNESS(time, latitude, longitude)\n",
      "    groups: \n",
      "Dataset is closed!\n"
     ]
    }
   ],
   "source": [
    "### writing data\n",
    "# Note: the \":\" is necessary in these \"write\" statements\n",
    "depth[:] = vars_dic['LAYER']\n",
    "time[:] = time_out\n",
    "for i, var_name in enumerate(vars_names):\n",
    "    if dim_cat[i] == 2:\n",
    "        str_exec = var_name + \"[:,:]= vars_dic['\" + var_name + \"']\"\n",
    "    elif dim_cat[i] == 3:\n",
    "        str_exec = var_name + \"[:,:,:]= vars_dic['\" + var_name + \"']\"\n",
    "    elif dim_cat[i] == 4:\n",
    "        str_exec = var_name + \"[:,:,:,:]= vars_dic['\" + var_name + \"']\"\n",
    "    exec(str_exec)\n",
    "print(ncfile)\n",
    "# close the Dataset.\n",
    "ncfile.close(); print('Dataset is closed!')"
   ]
  },
  {
   "cell_type": "code",
   "execution_count": 63,
   "metadata": {},
   "outputs": [
    {
     "name": "stdout",
     "output_type": "stream",
     "text": [
      "(432, 551, 901)\n"
     ]
    }
   ],
   "source": [
    "print(vars_dic['MIXED_LAYER_THICKNESS'].shape)"
   ]
  }
 ],
 "metadata": {
  "kernelspec": {
   "display_name": "pycode",
   "language": "python",
   "name": "python3"
  },
  "language_info": {
   "codemirror_mode": {
    "name": "ipython",
    "version": 3
   },
   "file_extension": ".py",
   "mimetype": "text/x-python",
   "name": "python",
   "nbconvert_exporter": "python",
   "pygments_lexer": "ipython3",
   "version": "3.9.7"
  }
 },
 "nbformat": 4,
 "nbformat_minor": 2
}
