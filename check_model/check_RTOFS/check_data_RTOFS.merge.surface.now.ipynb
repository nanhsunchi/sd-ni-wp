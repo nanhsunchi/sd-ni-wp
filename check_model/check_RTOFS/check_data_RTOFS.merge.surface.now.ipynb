{
 "cells": [
  {
   "cell_type": "code",
   "execution_count": 1,
   "metadata": {},
   "outputs": [],
   "source": [
    "'''\n",
    "check the aggregated GFS data (which is used to force RTOFS) from Mule\n",
    "On Mule tc2022/tc2023 directory: Both GFS & RTOFS have data range between 102W-30W, 7.5-46N. \n",
    "In 2023,    GFS has data between 8/1-11/20 (missing 9/2, 9/3). Wind data does not need bandpass filtering later\n",
    "            RTOFS has data between 7/26-11/21 (missing 8/21, 9/2-9/4, 11/5)\n",
    "'''\n",
    "import numpy as np\n",
    "import netCDF4 as nc\n",
    "import matplotlib\n",
    "import matplotlib.pyplot as plt\n",
    "import datetime\n",
    "import os\n",
    "import sys"
   ]
  },
  {
   "cell_type": "code",
   "execution_count": 5,
   "metadata": {},
   "outputs": [
    {
     "name": "stdout",
     "output_type": "stream",
     "text": [
      "Filenames selected to check in /Users/chi/Documents/projects/sd-ni-wp/check_model/check_RTOFS/\n",
      " ['RTOFS.merge.surface.now.20230801-20230831.nc', 'RTOFS.merge.surface.now.20230901-20230930.nc', 'RTOFS.merge.surface.now.20231001-20231031.nc', 'RTOFS.merge.surface.now.20231101-20231120.nc']\n"
     ]
    }
   ],
   "source": [
    "path = os.path.expanduser('~/Documents/projects/sd-ni-wp/check_model/check_RTOFS/')\n",
    "year = '2023'\n",
    "all_names = np.sort( os.listdir(path) )\n",
    "datelims = [[datetime.datetime(int(year),8,1), datetime.datetime(int(year),8,31)],\\\n",
    "           [datetime.datetime(int(year),9,1), datetime.datetime(int(year),9,30)],\\\n",
    "            [datetime.datetime(int(year),10,1), datetime.datetime(int(year),10,31)],\\\n",
    "                [datetime.datetime(int(year),11,1), datetime.datetime(int(year),11,20)]]\n",
    "\n",
    "filenames = []\n",
    "for i, item in enumerate( datelims ):\n",
    "    t1str = item[0].strftime('%Y%m%d')\n",
    "    t2str = item[1].strftime('%Y%m%d')\n",
    "    test = 'RTOFS.merge.surface.now.'+t1str+'-'+t2str+'.nc'\n",
    "    if test in all_names:\n",
    "        filenames.append( test )\n",
    "print('Filenames selected to check in '+path+'\\n',filenames)"
   ]
  },
  {
   "cell_type": "code",
   "execution_count": null,
   "metadata": {},
   "outputs": [
    {
     "name": "stdout",
     "output_type": "stream",
     "text": [
      "==========\n",
      "<class 'netCDF4._netCDF4.Dataset'>\n",
      "root group (NETCDF4_CLASSIC data model, file format HDF5):\n",
      "    title: Merged files for RTOFS fromsurface.now.20230802.nc to  and surface.now.20230901.nc \n",
      "Note that the time of each daily file in /Volumes/disk3/projects/tc2022/tc2023/RTOFS/study_area/ \n",
      "is one day prior to the date on showing in the filename. \n",
      "EX: the 24 hours of data in surface.now.20230801.nc is 2023/07/31 0Z to 23Z.\n",
      "The actual time range of this file is as the filename.\n",
      "    subtitle: Only selected variables for are merged here. The data is hourly with 0.08 deg horizontal resolution.\n",
      "    dimensions(sizes): time(720), depth(1), longitude(901), latitude(551)\n",
      "    variables(dimensions): float64 depth(depth), float64 time(time), float64 LONGITUDE(latitude, longitude), float64 LATITUDE(latitude, longitude), float64 U_VELOCITY(time, depth, latitude, longitude), float64 V_VELOCITY(time, depth, latitude, longitude), float64 MIXED_LAYER_THICKNESS(time, latitude, longitude)\n",
      "    groups: \n",
      "----------\n",
      "2023-08-01 00:00:00 - 2023-08-31 23:00:00\n",
      "==========\n",
      "<class 'netCDF4._netCDF4.Dataset'>\n",
      "root group (NETCDF4_CLASSIC data model, file format HDF5):\n",
      "    title: Merged files for RTOFS fromsurface.now.20230902.nc to  and surface.now.20231001.nc \n",
      "Note that the time of each daily file in /Volumes/disk3/projects/tc2022/tc2023/RTOFS/study_area/ \n",
      "is one day prior to the date on showing in the filename. \n",
      "EX: the 24 hours of data in surface.now.20230801.nc is 2023/07/31 0Z to 23Z.\n",
      "The actual time range of this file is as the filename.\n",
      "    subtitle: Only selected variables for are merged here. The data is hourly with 0.08 deg horizontal resolution.\n",
      "    dimensions(sizes): time(648), depth(1), longitude(901), latitude(551)\n",
      "    variables(dimensions): float64 depth(depth), float64 time(time), float64 LONGITUDE(latitude, longitude), float64 LATITUDE(latitude, longitude), float64 U_VELOCITY(time, depth, latitude, longitude), float64 V_VELOCITY(time, depth, latitude, longitude), float64 MIXED_LAYER_THICKNESS(time, latitude, longitude)\n",
      "    groups: \n",
      "----------\n",
      "2023-09-04 00:00:00 - 2023-09-30 23:00:00\n",
      "==========\n",
      "<class 'netCDF4._netCDF4.Dataset'>\n",
      "root group (NETCDF4_CLASSIC data model, file format HDF5):\n",
      "    title: Merged files for RTOFS fromsurface.now.20231002.nc to  and surface.now.20231101.nc \n",
      "Note that the time of each daily file in /Volumes/disk3/projects/tc2022/tc2023/RTOFS/study_area/ \n",
      "is one day prior to the date on showing in the filename. \n",
      "EX: the 24 hours of data in surface.now.20230801.nc is 2023/07/31 0Z to 23Z.\n",
      "The actual time range of this file is as the filename.\n",
      "    subtitle: Only selected variables for are merged here. The data is hourly with 0.08 deg horizontal resolution.\n",
      "    dimensions(sizes): time(744), depth(1), longitude(901), latitude(551)\n",
      "    variables(dimensions): float64 depth(depth), float64 time(time), float64 LONGITUDE(latitude, longitude), float64 LATITUDE(latitude, longitude), float64 U_VELOCITY(time, depth, latitude, longitude), float64 V_VELOCITY(time, depth, latitude, longitude), float64 MIXED_LAYER_THICKNESS(time, latitude, longitude)\n",
      "    groups: \n",
      "----------\n",
      "2023-10-01 00:00:00 - 2023-10-31 23:00:00\n",
      "==========\n",
      "<class 'netCDF4._netCDF4.Dataset'>\n",
      "root group (NETCDF4_CLASSIC data model, file format HDF5):\n",
      "    title: Merged files for RTOFS fromsurface.now.20231102.nc to  and surface.now.20231121.nc \n",
      "Note that the time of each daily file in /Volumes/disk3/projects/tc2022/tc2023/RTOFS/study_area/ \n",
      "is one day prior to the date on showing in the filename. \n",
      "EX: the 24 hours of data in surface.now.20230801.nc is 2023/07/31 0Z to 23Z.\n",
      "The actual time range of this file is as the filename.\n",
      "    subtitle: Only selected variables for are merged here. The data is hourly with 0.08 deg horizontal resolution.\n",
      "    dimensions(sizes): time(456), depth(1), longitude(901), latitude(551)\n",
      "    variables(dimensions): float64 depth(depth), float64 time(time), float64 LONGITUDE(latitude, longitude), float64 LATITUDE(latitude, longitude), float64 U_VELOCITY(time, depth, latitude, longitude), float64 V_VELOCITY(time, depth, latitude, longitude), float64 MIXED_LAYER_THICKNESS(time, latitude, longitude)\n",
      "    groups: \n",
      "----------\n",
      "2023-11-01 00:00:00 - 2023-11-20 23:00:00\n"
     ]
    }
   ],
   "source": [
    "''' Print file & time range '''\n",
    "for test in filenames:\n",
    "    ds = nc.Dataset(path+test)\n",
    "    print('='*10)\n",
    "    print(ds)\n",
    "    print('-'*10)\n",
    "    ds_keys = ds.variables.keys()\n",
    "    dtime = np.array([datetime.datetime.fromtimestamp(item) for item in ds.variables['time'][:]])\n",
    "    print(dtime[0],'-',dtime[-1])\n",
    "    ds.close()"
   ]
  }
 ],
 "metadata": {
  "kernelspec": {
   "display_name": "pycode",
   "language": "python",
   "name": "python3"
  },
  "language_info": {
   "codemirror_mode": {
    "name": "ipython",
    "version": 3
   },
   "file_extension": ".py",
   "mimetype": "text/x-python",
   "name": "python",
   "nbconvert_exporter": "python",
   "pygments_lexer": "ipython3",
   "version": "3.9.7"
  }
 },
 "nbformat": 4,
 "nbformat_minor": 2
}
