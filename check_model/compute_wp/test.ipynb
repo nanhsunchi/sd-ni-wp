{
 "cells": [
  {
   "cell_type": "code",
   "execution_count": 1,
   "metadata": {},
   "outputs": [],
   "source": [
    "''' test write a nc file with '''\n",
    "import numpy as np\n",
    "import netCDF4 as nc\n",
    "import matplotlib\n",
    "import matplotlib.pyplot as plt\n",
    "import datetime\n",
    "import os\n",
    "import math\n",
    "import cftime\n",
    "import sys\n",
    "path_nhchi = os.path.expanduser('~/Documents/projects/analytical-tools/py_nhchi/')\n",
    "# adding to the system path\n",
    "sys.path.insert(0, path_nhchi)\n",
    "from convert_time import datetime_to_yearday"
   ]
  },
  {
   "cell_type": "code",
   "execution_count": 3,
   "metadata": {},
   "outputs": [
    {
     "name": "stdout",
     "output_type": "stream",
     "text": [
      "<class 'netCDF4._netCDF4.Dataset'>\n",
      "root group (NETCDF4_CLASSIC data model, file format HDF5):\n",
      "    dimensions(sizes): \n",
      "    variables(dimensions): \n",
      "    groups: \n",
      "('time', <class 'netCDF4._netCDF4.Dimension'>: name = 'time', size = 3)\n",
      "test\n",
      "test\n",
      "<class 'netCDF4._netCDF4.Dataset'>\n",
      "root group (NETCDF4_CLASSIC data model, file format HDF5):\n",
      "    title: test\n",
      "    subtitle: test\n",
      "    dimensions(sizes): time(3)\n",
      "    variables(dimensions): \n",
      "    groups: \n"
     ]
    }
   ],
   "source": [
    "try: ncfile.close()  # just to be safe, make sure dataset is not already open.\n",
    "except: pass\n",
    "ncfname_out = 'test.nc'\n",
    "ncfile = nc.Dataset(ncfname_out,mode='w',format='NETCDF4_CLASSIC') \n",
    "print(ncfile)\n",
    "### creating dimensions\n",
    "time_dim = ncfile.createDimension('time', 3) # unlimited axis (can be appended to).\n",
    "for dim in ncfile.dimensions.items():\n",
    "    print(dim)\n",
    "### creating attributes\n",
    "ncfile.title='test'\n",
    "print(ncfile.title)\n",
    "ncfile.subtitle=\"test\"\n",
    "print(ncfile.subtitle)\n",
    "print(ncfile)"
   ]
  },
  {
   "cell_type": "code",
   "execution_count": 4,
   "metadata": {},
   "outputs": [
    {
     "name": "stdout",
     "output_type": "stream",
     "text": [
      "<class 'netCDF4._netCDF4.Variable'>\n"
     ]
    }
   ],
   "source": [
    "### Creating variables\n",
    "time = ncfile.createVariable('time', np.float64, ('time',))\n",
    "time.units = 'seconds since 2023-01-01'\n",
    "time.long_name = 'time'\n",
    "x = ncfile.createVariable('x', np.float64, ('time',))\n",
    "print(type(x))"
   ]
  },
  {
   "cell_type": "code",
   "execution_count": 18,
   "metadata": {},
   "outputs": [
    {
     "name": "stdout",
     "output_type": "stream",
     "text": [
      "[1 2 3] <class 'numpy.ma.core.MaskedArray'>\n"
     ]
    }
   ],
   "source": [
    "test = np.ma.array([1,2,3])\n",
    "print(test, type(test))\n",
    "# 'netCDF4._netCDF4.Variable'\n",
    "if isinstance(x, np.ndarray):\n",
    "    print('is np array')"
   ]
  }
 ],
 "metadata": {
  "kernelspec": {
   "display_name": "pycode",
   "language": "python",
   "name": "python3"
  },
  "language_info": {
   "codemirror_mode": {
    "name": "ipython",
    "version": 3
   },
   "file_extension": ".py",
   "mimetype": "text/x-python",
   "name": "python",
   "nbconvert_exporter": "python",
   "pygments_lexer": "ipython3",
   "version": "3.9.7"
  }
 },
 "nbformat": 4,
 "nbformat_minor": 2
}
