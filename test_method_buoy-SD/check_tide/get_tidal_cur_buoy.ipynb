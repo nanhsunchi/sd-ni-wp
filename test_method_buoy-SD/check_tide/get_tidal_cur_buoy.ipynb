{
 "cells": [
  {
   "cell_type": "code",
   "execution_count": 1,
   "metadata": {},
   "outputs": [],
   "source": [
    "\"\"\" Get tidal current from AVISO FES 2014 model. And write to file according to the buoy data's lon/ lat/ time. \n",
    "\"\"\"\n",
    "import numpy as np\n",
    "import netCDF4 as nc\n",
    "import matplotlib\n",
    "import matplotlib.pyplot as plt\n",
    "import datetime\n",
    "import pyfes ### has to use newpycode\n",
    "import os\n",
    "import sys\n",
    "import re\n",
    "from oceans.ocfis import spdir2uv\n",
    "path_nhchi = os.path.expanduser('~/Documents/nhchi_work_2022/py_nhchi/')\n",
    "# adding to the system path\n",
    "sys.path.insert(0, path_nhchi)\n",
    "from convert_time import datetime_to_yearday"
   ]
  },
  {
   "cell_type": "code",
   "execution_count": 2,
   "metadata": {},
   "outputs": [],
   "source": [
    "### Data info\n",
    "### buoy data info\n",
    "year = '2023'\n",
    "buoy_id = '42022'\n",
    "path_met_buoy = '/Users/chi/Documents/Data/NDBC/'\n",
    "fn_met = 'met_ndbc'+buoy_id+'_y'+year+'.txt'\n",
    "path_cur_buoy = '/Users/chi/Documents/Data/NDBC/'\n",
    "fn_cur = 'current_ndbc'+buoy_id+'_y'+year+'.txt'\n",
    "lat_buoy = 27.505\n",
    "lon_buoy = -83.741"
   ]
  },
  {
   "cell_type": "code",
   "execution_count": 3,
   "metadata": {},
   "outputs": [
    {
     "name": "stdout",
     "output_type": "stream",
     "text": [
      "Total Number of lines in the current data file: 6977\n",
      "The caveat is that the file does not have exact same number of items in the header as in the data...\n",
      "Shape of arrayCur: (6975, 125)\n"
     ]
    }
   ],
   "source": [
    "### Info of buoy's adcp data\n",
    "### LOAD CURRENT VELOCITY DATA ###\n",
    "### Read buoy current data\n",
    "nline_header = 2 ### need to check lines of headers manually\n",
    "with open(path_cur_buoy+fn_cur, 'r') as f:\n",
    "    nrow = len(f.readlines())\n",
    "    print('Total Number of lines in the current data file:', nrow)\n",
    "### get the headers & number of items in the header\n",
    "count = 0\n",
    "print('The caveat is that the file does not have exact same number of items in the header as in the data...')\n",
    "with open(path_cur_buoy+fn_cur, 'r') as f:\n",
    "    for line in f:\n",
    "        if count == nline_header:\n",
    "            line_1 = re.sub(r\"\\s+\",',',line) ### replace space(s) with ','\n",
    "            if line_1[-1] == ',':\n",
    "                line_1 = line_1[:-1]\n",
    "            break\n",
    "        count = count + 1\n",
    "### read through the file\n",
    "line_1_list = line_1.split(',')\n",
    "ncol = len(line_1_list) # number of items in the first line of data\n",
    "arrayCur = np.nan*np.ones( (nrow-nline_header,ncol) ) ### record values only\n",
    "count = 0\n",
    "with open(path_cur_buoy+fn_cur) as f:\n",
    "    for line in f:\n",
    "        count = count + 1\n",
    "        line_1 = re.sub(r\"\\s+\",',',line)\n",
    "        if line_1[-1] == ',':\n",
    "                line_1 = line_1[:-1]\n",
    "        # print(line_1)\n",
    "        if count > nline_header:\n",
    "            temp = line_1.split(',')\n",
    "            temp = [float(item) for item in temp]\n",
    "            nitem = len(temp)\n",
    "            arrayCur[count-nline_header-1,0:nitem] = np.array(temp)\n",
    "        \n",
    "print('Shape of arrayCur:',arrayCur.shape)\n",
    "arrayCur[arrayCur == 999] = np.nan\n",
    "\n",
    "### convert to datetime\n",
    "dtime_cur_buoy = []\n",
    "for i in range( arrayCur.shape[0] ):\n",
    "    dtime_cur_buoy.append( datetime.datetime(int(arrayCur[i,0]),int(arrayCur[i,1]),int(arrayCur[i,2]),int(arrayCur[i,3]),int(arrayCur[i,4])) )\n",
    "dtime_cur_buoy = np.array( dtime_cur_buoy )"
   ]
  },
  {
   "cell_type": "code",
   "execution_count": 4,
   "metadata": {},
   "outputs": [],
   "source": [
    "### Use pyfes tool box to build the tide model\n",
    "path_aviso = os.path.expanduser('~/Documents/Data/AVISO/auxiliary/tide_model/fes2014/')\n",
    "ConfigFileU = path_aviso+'eastward_velocity.ini'\n",
    "ConfigFileV = path_aviso+'/northward_velocity.ini'\n",
    "eastward_velocity = pyfes.Handler(\"ocean\",\"memory\",ConfigFileU)\n",
    "northward_velocity = pyfes.Handler(\"ocean\", \"memory\",ConfigFileV)"
   ]
  },
  {
   "cell_type": "code",
   "execution_count": 7,
   "metadata": {},
   "outputs": [],
   "source": [
    "### get tidal currents by specifying time and locations\n",
    "u_tide = np.nan*np.ones( dtime_cur_buoy.shape )\n",
    "v_tide = u_tide.copy()\n",
    "for i in range( len(dtime_cur_buoy) ):\n",
    "    u_tide[i], _, _ = eastward_velocity.calculate(np.array([lon_buoy]),np.array([lat_buoy]),np.array([dtime_cur_buoy[i]]))\n",
    "    v_tide[i], _, _ = northward_velocity.calculate(np.array([lon_buoy]),np.array([lat_buoy]),np.array([dtime_cur_buoy[i]]))"
   ]
  },
  {
   "cell_type": "code",
   "execution_count": 8,
   "metadata": {},
   "outputs": [],
   "source": [
    "### write tidal current data to txt file\n",
    "header = 'datetime, longitude(deg), latitude(degN), utide(cm/s), vtide(cm/s). Data derived from AVISO FES2014 model.'\n",
    "arr_out = np.column_stack( (dtime_cur_buoy, lon_buoy*np.ones(dtime_cur_buoy.shape), lat_buoy*np.ones(dtime_cur_buoy.shape), u_tide, v_tide) )\n",
    "### write to a file\n",
    "fileID = open('timeseries_uv-tide_'+year+'-buoy'+buoy_id+'.txt','w')\n",
    "np.savetxt(fileID,arr_out,fmt='%s',header=header)\n",
    "fileID.close()"
   ]
  }
 ],
 "metadata": {
  "kernelspec": {
   "display_name": "newpycode",
   "language": "python",
   "name": "python3"
  },
  "language_info": {
   "codemirror_mode": {
    "name": "ipython",
    "version": 3
   },
   "file_extension": ".py",
   "mimetype": "text/x-python",
   "name": "python",
   "nbconvert_exporter": "python",
   "pygments_lexer": "ipython3",
   "version": "3.8.12"
  }
 },
 "nbformat": 4,
 "nbformat_minor": 2
}
