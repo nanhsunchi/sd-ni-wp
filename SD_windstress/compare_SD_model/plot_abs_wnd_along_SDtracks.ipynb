{
 "cells": [
  {
   "cell_type": "code",
   "execution_count": 1,
   "metadata": {},
   "outputs": [],
   "source": [
    "''' compare GFS against alongtrack SD wind - convert wind(SD 3.5m) to wind(SD 10m) '''\n",
    "''' use coare3.6 to convert wind at 10m - need: uwnd, vwnd, air temp, rh, air pressure, '''\n",
    "import numpy as np\n",
    "import netCDF4 as nc\n",
    "import matplotlib\n",
    "import matplotlib.pyplot as plt\n",
    "import datetime\n",
    "import os\n",
    "import sys\n",
    "from scipy import stats\n",
    "# from metpy import calc\n",
    "path_nhchi = os.path.expanduser('~/Documents/projects/analytical-tools/py_nhchi/')\n",
    "# adding to the system path\n",
    "sys.path.insert(0, path_nhchi)\n",
    "from convert_dir import vector_dir_to_from\n",
    "from values_to_colors import truncate_colormap\n",
    "from convert_time import datetime_to_yearday\n",
    "from coare36vn_zrf_et import coare36vn_zrf_et"
   ]
  },
  {
   "cell_type": "code",
   "execution_count": 2,
   "metadata": {},
   "outputs": [
    {
     "name": "stdout",
     "output_type": "stream",
     "text": [
      "12 ['timeseries_wnd_match_2023-SD1031_GFS.txt'\n",
      " 'timeseries_wnd_match_2023-SD1036_GFS.txt'\n",
      " 'timeseries_wnd_match_2023-SD1040_GFS.txt'\n",
      " 'timeseries_wnd_match_2023-SD1041_GFS.txt'\n",
      " 'timeseries_wnd_match_2023-SD1042_GFS.txt'\n",
      " 'timeseries_wnd_match_2023-SD1045_GFS.txt'\n",
      " 'timeseries_wnd_match_2023-SD1057_GFS.txt'\n",
      " 'timeseries_wnd_match_2023-SD1064_GFS.txt'\n",
      " 'timeseries_wnd_match_2023-SD1065_GFS.txt'\n",
      " 'timeseries_wnd_match_2023-SD1068_GFS.txt'\n",
      " 'timeseries_wnd_match_2023-SD1069_GFS.txt'\n",
      " 'timeseries_wnd_match_2023-SD1083_GFS.txt']\n"
     ]
    }
   ],
   "source": [
    "''' SD data info '''\n",
    "year = '2023'\n",
    "platfs_num = ['1031','1036','1040','1041','1042','1045','1057','1064','1065','1068','1069','1083']#['1036','1041','1069']\n",
    "path_SD = os.path.expanduser('~/Documents/projects/sd-ni-wp/SD_windstress/compare_SD_model/data_timeseries_match_SD_GFS/')\n",
    "filenames_SD_all = np.sort( os.listdir(path_SD) )\n",
    "filenames_SD = np.array([])\n",
    "for file in filenames_SD_all:\n",
    "    if ('.txt' in file) & (year in file) & (file[-12:-8] in platfs_num):\n",
    "        filenames_SD = np.append(filenames_SD, file)\n",
    "print(len(filenames_SD), filenames_SD)"
   ]
  },
  {
   "cell_type": "code",
   "execution_count": 3,
   "metadata": {},
   "outputs": [
    {
     "name": "stdout",
     "output_type": "stream",
     "text": [
      "1031 (1968, 10)\n",
      "1036 (4008, 10)\n",
      "1040 (5094, 10)\n",
      "1041 (6510, 10)\n",
      "1042 (7034, 10)\n",
      "1045 (9074, 10)\n",
      "1057 (10532, 10)\n",
      "1064 (11060, 10)\n",
      "1065 (12068, 10)\n",
      "1068 (13730, 10)\n",
      "1069 (15938, 10)\n",
      "1083 (17888, 10)\n"
     ]
    }
   ],
   "source": [
    "''' load all SD data in filenames_SD and plot stats '''\n",
    "if 'data_all' in locals():\n",
    "    del data_all\n",
    "for i, platf_num in enumerate( platfs_num ):\n",
    "    temp = np.genfromtxt( path_SD+'timeseries_wnd_match_'+year+'-SD'+platf_num+'_GFS.txt', dtype=float,\\\n",
    "                         delimiter=' ',skip_header=1)\n",
    "    temp = np.column_stack( (i*np.ones( (temp.shape[0],) ), temp) )\n",
    "    ''' append to data_all '''\n",
    "    if 'data_all' not in locals():\n",
    "        data_all = temp\n",
    "    else:\n",
    "        data_all = np.vstack( (data_all, temp) )\n",
    "    print(platf_num, data_all.shape)"
   ]
  },
  {
   "cell_type": "code",
   "execution_count": null,
   "metadata": {},
   "outputs": [],
   "source": [
    "''' plot 2D-histogram of uwnd & vwnd - individual SD '''\n",
    "nrow = 3; ncol = 4\n",
    "bins = np.arange(-1.25,1.25,0.05)\n",
    "xlim = [-1.2,1.2]\n",
    "x0 = np.arange(bins[0],bins[-1]+0.1,0.1)\n",
    "histlim = [0,0.03]\n",
    "vars_to_plot = ['uwnd','vwnd']\n",
    "''' plot '''\n",
    "for v, var_to_plot in enumerate( vars_to_plot ):\n",
    "    plt.clf()\n",
    "    plt.rcParams.update({'font.size': 13})\n",
    "    fig, ax = plt.subplots(nrows=nrow,ncols=ncol)\n",
    "    fig.set_size_inches(20, 14.5)\n",
    "    for i, platf_num in enumerate(platfs_num):\n",
    "        irows = np.where( data_all[:,0] == i )[0]\n",
    "        print('Shape of',platf_num,var_to_plot,':',data_all[irows,:].shape)\n",
    "        ''' plot '''\n",
    "        plt.subplot(nrow,ncol,i+1)\n",
    "        x = data_all[irows,4+v*2]\n",
    "        y = data_all[irows,5+v*2]\n",
    "        slope, intercept, r, p, std_err = stats.linregress(x,y)\n",
    "        h, xedges,yedges = np.histogram2d(x, y, bins=bins,density=True)\n",
    "        cs = plt.pcolormesh(xedges, yedges, h/h.sum(), cmap='turbo',vmin=histlim[0],vmax=histlim[1])\n",
    "        plt.plot( x0, x0*slope+intercept, 'm--')\n",
    "        plt.xlabel(var_to_plot+'$_{SD'+platf_num+'}$ (m s$^{-1}$)')\n",
    "        plt.ylabel(var_to_plot+'$_{RTOFS}$ (m s$^{-1}$)')\n",
    "        plt.title('y={:.2f}x+{:.2E}. r= {:.2f},\\np= {:.2f}, std_err= {:.3f}, {:.0f} pairs'\\\n",
    "                  .format(slope,intercept,r,p,std_err,len(irows)), fontsize=12)\n",
    "        # break\n",
    "    ''' add colorbar '''\n",
    "    axf = fig.add_axes([0.91,0.15,0.005,0.7])\n",
    "    axf = plt.colorbar(cs,orientation='vertical',cax=axf,extend='max')\n",
    "    # axf.set_label('',fontsize=14)\n",
    "    ''' settings '''\n",
    "    for i in range(nrow*ncol):\n",
    "        plt.subplot(nrow,ncol,i+1)\n",
    "        # plt.axis('equal')\n",
    "        plt.plot(xlim,xlim,'--',color='lightgray')\n",
    "        plt.grid()\n",
    "        plt.xticks(np.arange(xlim[0],xlim[1],0.4))\n",
    "        plt.yticks(np.arange(xlim[0],xlim[1],0.4))\n",
    "        plt.xlim(xlim)\n",
    "        plt.ylim(xlim)\n",
    "    plt.suptitle('2D histogram of '+var_to_plot+' between \\nSD$_{6m}$ ('+','.join(platfs_num)+') & RTOFS')\n",
    "    plt.subplots_adjust(left=0.1,bottom=0.1,right=0.9,top=0.9,wspace=0.3,hspace=0.4)\n",
    "    ''' save figure '''\n",
    "    break\n",
    "    plt.savefig('2Dhist_'+var_to_plot+'_SD(6m)('+year+':'+'-'.join(platfs_num)+')_GFS.png',dpi=400,bbox_inches='tight')"
   ]
  }
 ],
 "metadata": {
  "kernelspec": {
   "display_name": "pycode",
   "language": "python",
   "name": "python3"
  },
  "language_info": {
   "codemirror_mode": {
    "name": "ipython",
    "version": 3
   },
   "file_extension": ".py",
   "mimetype": "text/x-python",
   "name": "python",
   "nbconvert_exporter": "python",
   "pygments_lexer": "ipython3",
   "version": "3.9.7"
  }
 },
 "nbformat": 4,
 "nbformat_minor": 2
}
