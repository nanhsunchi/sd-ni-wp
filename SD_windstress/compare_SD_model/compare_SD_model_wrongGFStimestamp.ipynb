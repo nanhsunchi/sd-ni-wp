{
 "cells": [
  {
   "cell_type": "code",
   "execution_count": 1,
   "metadata": {},
   "outputs": [],
   "source": [
    "''' compare GFS against alongtrack SD wind vectors at \n",
    "rerun on 2025/03/03 with the correct timestamp '''\n",
    "import numpy as np\n",
    "import netCDF4 as nc\n",
    "import matplotlib\n",
    "import matplotlib.pyplot as plt\n",
    "import datetime\n",
    "import os\n",
    "import sys\n",
    "from scipy import stats"
   ]
  },
  {
   "cell_type": "code",
   "execution_count": 2,
   "metadata": {},
   "outputs": [
    {
     "name": "stdout",
     "output_type": "stream",
     "text": [
      "12 ['airsea-raw-merge-2023-SD1031.nc' 'airsea-raw-merge-2023-SD1036.nc'\n",
      " 'airsea-raw-merge-2023-SD1040.nc' 'airsea-raw-merge-2023-SD1041.nc'\n",
      " 'airsea-raw-merge-2023-SD1042.nc' 'airsea-raw-merge-2023-SD1045.nc'\n",
      " 'airsea-raw-merge-2023-SD1057.nc' 'airsea-raw-merge-2023-SD1064.nc'\n",
      " 'airsea-raw-merge-2023-SD1065.nc' 'airsea-raw-merge-2023-SD1068.nc'\n",
      " 'airsea-raw-merge-2023-SD1069.nc' 'airsea-raw-merge-2023-SD1083.nc']\n",
      "110 ['20230801', '20230802', '20230803', '20230804', '20230805', '20230806', '20230807', '20230808', '20230809', '20230810', '20230811', '20230812', '20230813', '20230814', '20230815', '20230816', '20230817', '20230818', '20230819', '20230820', '20230821', '20230822', '20230823', '20230824', '20230825', '20230826', '20230827', '20230828', '20230829', '20230830', '20230831', '20230901', '20230904', '20230905', '20230906', '20230907', '20230908', '20230909', '20230910', '20230911', '20230912', '20230913', '20230914', '20230915', '20230916', '20230917', '20230918', '20230919', '20230920', '20230921', '20230922', '20230923', '20230924', '20230925', '20230926', '20230927', '20230928', '20230929', '20230930', '20231001', '20231002', '20231003', '20231004', '20231005', '20231006', '20231007', '20231008', '20231009', '20231010', '20231011', '20231012', '20231013', '20231014', '20231015', '20231016', '20231017', '20231018', '20231019', '20231020', '20231021', '20231022', '20231023', '20231024', '20231025', '20231026', '20231027', '20231028', '20231029', '20231030', '20231031', '20231101', '20231102', '20231103', '20231104', '20231105', '20231106', '20231107', '20231108', '20231109', '20231110', '20231111', '20231112', '20231113', '20231114', '20231115', '20231116', '20231117', '20231118', '20231119', '20231120']\n",
      "[datetime.datetime(2023, 8, 1, 0, 0), datetime.datetime(2023, 8, 1, 6, 0), datetime.datetime(2023, 8, 1, 12, 0), datetime.datetime(2023, 8, 1, 18, 0), datetime.datetime(2023, 8, 2, 0, 0), datetime.datetime(2023, 8, 2, 6, 0), datetime.datetime(2023, 8, 2, 12, 0), datetime.datetime(2023, 8, 2, 18, 0), datetime.datetime(2023, 8, 3, 0, 0), datetime.datetime(2023, 8, 3, 6, 0), datetime.datetime(2023, 8, 3, 12, 0), datetime.datetime(2023, 8, 3, 18, 0), datetime.datetime(2023, 8, 4, 0, 0), datetime.datetime(2023, 8, 4, 6, 0), datetime.datetime(2023, 8, 4, 12, 0), datetime.datetime(2023, 8, 4, 18, 0), datetime.datetime(2023, 8, 5, 0, 0), datetime.datetime(2023, 8, 5, 6, 0), datetime.datetime(2023, 8, 5, 12, 0), datetime.datetime(2023, 8, 5, 18, 0), datetime.datetime(2023, 8, 6, 0, 0), datetime.datetime(2023, 8, 6, 6, 0), datetime.datetime(2023, 8, 6, 12, 0), datetime.datetime(2023, 8, 6, 18, 0), datetime.datetime(2023, 8, 7, 0, 0), datetime.datetime(2023, 8, 7, 6, 0), datetime.datetime(2023, 8, 7, 12, 0), datetime.datetime(2023, 8, 7, 18, 0), datetime.datetime(2023, 8, 8, 0, 0), datetime.datetime(2023, 8, 8, 6, 0), datetime.datetime(2023, 8, 8, 12, 0), datetime.datetime(2023, 8, 8, 18, 0), datetime.datetime(2023, 8, 9, 0, 0), datetime.datetime(2023, 8, 9, 6, 0), datetime.datetime(2023, 8, 9, 12, 0), datetime.datetime(2023, 8, 9, 18, 0), datetime.datetime(2023, 8, 10, 0, 0), datetime.datetime(2023, 8, 10, 6, 0), datetime.datetime(2023, 8, 10, 12, 0), datetime.datetime(2023, 8, 10, 18, 0), datetime.datetime(2023, 8, 11, 0, 0), datetime.datetime(2023, 8, 11, 6, 0), datetime.datetime(2023, 8, 11, 12, 0), datetime.datetime(2023, 8, 11, 18, 0), datetime.datetime(2023, 8, 12, 0, 0), datetime.datetime(2023, 8, 12, 6, 0), datetime.datetime(2023, 8, 12, 12, 0), datetime.datetime(2023, 8, 12, 18, 0), datetime.datetime(2023, 8, 13, 0, 0), datetime.datetime(2023, 8, 13, 6, 0), datetime.datetime(2023, 8, 13, 12, 0), datetime.datetime(2023, 8, 13, 18, 0), datetime.datetime(2023, 8, 14, 0, 0), datetime.datetime(2023, 8, 14, 6, 0), datetime.datetime(2023, 8, 14, 12, 0), datetime.datetime(2023, 8, 14, 18, 0), datetime.datetime(2023, 8, 15, 0, 0), datetime.datetime(2023, 8, 15, 6, 0), datetime.datetime(2023, 8, 15, 12, 0), datetime.datetime(2023, 8, 15, 18, 0), datetime.datetime(2023, 8, 16, 0, 0), datetime.datetime(2023, 8, 16, 6, 0), datetime.datetime(2023, 8, 16, 12, 0), datetime.datetime(2023, 8, 16, 18, 0), datetime.datetime(2023, 8, 17, 0, 0), datetime.datetime(2023, 8, 17, 6, 0), datetime.datetime(2023, 8, 17, 12, 0), datetime.datetime(2023, 8, 17, 18, 0), datetime.datetime(2023, 8, 18, 0, 0), datetime.datetime(2023, 8, 18, 6, 0), datetime.datetime(2023, 8, 18, 12, 0), datetime.datetime(2023, 8, 18, 18, 0), datetime.datetime(2023, 8, 19, 0, 0), datetime.datetime(2023, 8, 19, 6, 0), datetime.datetime(2023, 8, 19, 12, 0), datetime.datetime(2023, 8, 19, 18, 0), datetime.datetime(2023, 8, 20, 0, 0), datetime.datetime(2023, 8, 20, 6, 0), datetime.datetime(2023, 8, 20, 12, 0), datetime.datetime(2023, 8, 20, 18, 0), datetime.datetime(2023, 8, 21, 0, 0), datetime.datetime(2023, 8, 21, 6, 0), datetime.datetime(2023, 8, 21, 12, 0), datetime.datetime(2023, 8, 21, 18, 0), datetime.datetime(2023, 8, 22, 0, 0), datetime.datetime(2023, 8, 22, 6, 0), datetime.datetime(2023, 8, 22, 12, 0), datetime.datetime(2023, 8, 22, 18, 0), datetime.datetime(2023, 8, 23, 0, 0), datetime.datetime(2023, 8, 23, 6, 0), datetime.datetime(2023, 8, 23, 12, 0), datetime.datetime(2023, 8, 23, 18, 0), datetime.datetime(2023, 8, 24, 0, 0), datetime.datetime(2023, 8, 24, 6, 0), datetime.datetime(2023, 8, 24, 12, 0), datetime.datetime(2023, 8, 24, 18, 0), datetime.datetime(2023, 8, 25, 0, 0), datetime.datetime(2023, 8, 25, 6, 0), datetime.datetime(2023, 8, 25, 12, 0), datetime.datetime(2023, 8, 25, 18, 0), datetime.datetime(2023, 8, 26, 0, 0), datetime.datetime(2023, 8, 26, 6, 0), datetime.datetime(2023, 8, 26, 12, 0), datetime.datetime(2023, 8, 26, 18, 0), datetime.datetime(2023, 8, 27, 0, 0), datetime.datetime(2023, 8, 27, 6, 0), datetime.datetime(2023, 8, 27, 12, 0), datetime.datetime(2023, 8, 27, 18, 0), datetime.datetime(2023, 8, 28, 0, 0), datetime.datetime(2023, 8, 28, 6, 0), datetime.datetime(2023, 8, 28, 12, 0), datetime.datetime(2023, 8, 28, 18, 0), datetime.datetime(2023, 8, 29, 0, 0), datetime.datetime(2023, 8, 29, 6, 0), datetime.datetime(2023, 8, 29, 12, 0), datetime.datetime(2023, 8, 29, 18, 0), datetime.datetime(2023, 8, 30, 0, 0), datetime.datetime(2023, 8, 30, 6, 0), datetime.datetime(2023, 8, 30, 12, 0), datetime.datetime(2023, 8, 30, 18, 0), datetime.datetime(2023, 8, 31, 0, 0), datetime.datetime(2023, 8, 31, 6, 0), datetime.datetime(2023, 8, 31, 12, 0), datetime.datetime(2023, 8, 31, 18, 0), datetime.datetime(2023, 9, 1, 0, 0), datetime.datetime(2023, 9, 1, 6, 0), datetime.datetime(2023, 9, 1, 12, 0), datetime.datetime(2023, 9, 1, 18, 0), datetime.datetime(2023, 9, 2, 0, 0), datetime.datetime(2023, 9, 2, 6, 0), datetime.datetime(2023, 9, 2, 12, 0), datetime.datetime(2023, 9, 2, 18, 0), datetime.datetime(2023, 9, 3, 0, 0), datetime.datetime(2023, 9, 3, 6, 0), datetime.datetime(2023, 9, 3, 12, 0), datetime.datetime(2023, 9, 3, 18, 0), datetime.datetime(2023, 9, 4, 0, 0), datetime.datetime(2023, 9, 4, 6, 0), datetime.datetime(2023, 9, 4, 12, 0), datetime.datetime(2023, 9, 4, 18, 0), datetime.datetime(2023, 9, 5, 0, 0), datetime.datetime(2023, 9, 5, 6, 0), datetime.datetime(2023, 9, 5, 12, 0), datetime.datetime(2023, 9, 5, 18, 0), datetime.datetime(2023, 9, 6, 0, 0), datetime.datetime(2023, 9, 6, 6, 0), datetime.datetime(2023, 9, 6, 12, 0), datetime.datetime(2023, 9, 6, 18, 0), datetime.datetime(2023, 9, 7, 0, 0), datetime.datetime(2023, 9, 7, 6, 0), datetime.datetime(2023, 9, 7, 12, 0), datetime.datetime(2023, 9, 7, 18, 0), datetime.datetime(2023, 9, 8, 0, 0), datetime.datetime(2023, 9, 8, 6, 0), datetime.datetime(2023, 9, 8, 12, 0), datetime.datetime(2023, 9, 8, 18, 0), datetime.datetime(2023, 9, 9, 0, 0), datetime.datetime(2023, 9, 9, 6, 0), datetime.datetime(2023, 9, 9, 12, 0), datetime.datetime(2023, 9, 9, 18, 0), datetime.datetime(2023, 9, 10, 0, 0), datetime.datetime(2023, 9, 10, 6, 0), datetime.datetime(2023, 9, 10, 12, 0), datetime.datetime(2023, 9, 10, 18, 0), datetime.datetime(2023, 9, 11, 0, 0), datetime.datetime(2023, 9, 11, 6, 0), datetime.datetime(2023, 9, 11, 12, 0), datetime.datetime(2023, 9, 11, 18, 0), datetime.datetime(2023, 9, 12, 0, 0), datetime.datetime(2023, 9, 12, 6, 0), datetime.datetime(2023, 9, 12, 12, 0), datetime.datetime(2023, 9, 12, 18, 0), datetime.datetime(2023, 9, 13, 0, 0), datetime.datetime(2023, 9, 13, 6, 0), datetime.datetime(2023, 9, 13, 12, 0), datetime.datetime(2023, 9, 13, 18, 0), datetime.datetime(2023, 9, 14, 0, 0), datetime.datetime(2023, 9, 14, 6, 0), datetime.datetime(2023, 9, 14, 12, 0), datetime.datetime(2023, 9, 14, 18, 0), datetime.datetime(2023, 9, 15, 0, 0), datetime.datetime(2023, 9, 15, 6, 0), datetime.datetime(2023, 9, 15, 12, 0), datetime.datetime(2023, 9, 15, 18, 0), datetime.datetime(2023, 9, 16, 0, 0), datetime.datetime(2023, 9, 16, 6, 0), datetime.datetime(2023, 9, 16, 12, 0), datetime.datetime(2023, 9, 16, 18, 0), datetime.datetime(2023, 9, 17, 0, 0), datetime.datetime(2023, 9, 17, 6, 0), datetime.datetime(2023, 9, 17, 12, 0), datetime.datetime(2023, 9, 17, 18, 0), datetime.datetime(2023, 9, 18, 0, 0), datetime.datetime(2023, 9, 18, 6, 0), datetime.datetime(2023, 9, 18, 12, 0), datetime.datetime(2023, 9, 18, 18, 0), datetime.datetime(2023, 9, 19, 0, 0), datetime.datetime(2023, 9, 19, 6, 0), datetime.datetime(2023, 9, 19, 12, 0), datetime.datetime(2023, 9, 19, 18, 0), datetime.datetime(2023, 9, 20, 0, 0), datetime.datetime(2023, 9, 20, 6, 0), datetime.datetime(2023, 9, 20, 12, 0), datetime.datetime(2023, 9, 20, 18, 0), datetime.datetime(2023, 9, 21, 0, 0), datetime.datetime(2023, 9, 21, 6, 0), datetime.datetime(2023, 9, 21, 12, 0), datetime.datetime(2023, 9, 21, 18, 0), datetime.datetime(2023, 9, 22, 0, 0), datetime.datetime(2023, 9, 22, 6, 0), datetime.datetime(2023, 9, 22, 12, 0), datetime.datetime(2023, 9, 22, 18, 0), datetime.datetime(2023, 9, 23, 0, 0), datetime.datetime(2023, 9, 23, 6, 0), datetime.datetime(2023, 9, 23, 12, 0), datetime.datetime(2023, 9, 23, 18, 0), datetime.datetime(2023, 9, 24, 0, 0), datetime.datetime(2023, 9, 24, 6, 0), datetime.datetime(2023, 9, 24, 12, 0), datetime.datetime(2023, 9, 24, 18, 0), datetime.datetime(2023, 9, 25, 0, 0), datetime.datetime(2023, 9, 25, 6, 0), datetime.datetime(2023, 9, 25, 12, 0), datetime.datetime(2023, 9, 25, 18, 0), datetime.datetime(2023, 9, 26, 0, 0), datetime.datetime(2023, 9, 26, 6, 0), datetime.datetime(2023, 9, 26, 12, 0), datetime.datetime(2023, 9, 26, 18, 0), datetime.datetime(2023, 9, 27, 0, 0), datetime.datetime(2023, 9, 27, 6, 0), datetime.datetime(2023, 9, 27, 12, 0), datetime.datetime(2023, 9, 27, 18, 0), datetime.datetime(2023, 9, 28, 0, 0), datetime.datetime(2023, 9, 28, 6, 0), datetime.datetime(2023, 9, 28, 12, 0), datetime.datetime(2023, 9, 28, 18, 0), datetime.datetime(2023, 9, 29, 0, 0), datetime.datetime(2023, 9, 29, 6, 0), datetime.datetime(2023, 9, 29, 12, 0), datetime.datetime(2023, 9, 29, 18, 0), datetime.datetime(2023, 9, 30, 0, 0), datetime.datetime(2023, 9, 30, 6, 0), datetime.datetime(2023, 9, 30, 12, 0), datetime.datetime(2023, 9, 30, 18, 0), datetime.datetime(2023, 10, 1, 0, 0), datetime.datetime(2023, 10, 1, 6, 0), datetime.datetime(2023, 10, 1, 12, 0), datetime.datetime(2023, 10, 1, 18, 0), datetime.datetime(2023, 10, 2, 0, 0), datetime.datetime(2023, 10, 2, 6, 0), datetime.datetime(2023, 10, 2, 12, 0), datetime.datetime(2023, 10, 2, 18, 0), datetime.datetime(2023, 10, 3, 0, 0), datetime.datetime(2023, 10, 3, 6, 0), datetime.datetime(2023, 10, 3, 12, 0), datetime.datetime(2023, 10, 3, 18, 0), datetime.datetime(2023, 10, 4, 0, 0), datetime.datetime(2023, 10, 4, 6, 0), datetime.datetime(2023, 10, 4, 12, 0), datetime.datetime(2023, 10, 4, 18, 0), datetime.datetime(2023, 10, 5, 0, 0), datetime.datetime(2023, 10, 5, 6, 0), datetime.datetime(2023, 10, 5, 12, 0), datetime.datetime(2023, 10, 5, 18, 0), datetime.datetime(2023, 10, 6, 0, 0), datetime.datetime(2023, 10, 6, 6, 0), datetime.datetime(2023, 10, 6, 12, 0), datetime.datetime(2023, 10, 6, 18, 0), datetime.datetime(2023, 10, 7, 0, 0), datetime.datetime(2023, 10, 7, 6, 0), datetime.datetime(2023, 10, 7, 12, 0), datetime.datetime(2023, 10, 7, 18, 0), datetime.datetime(2023, 10, 8, 0, 0), datetime.datetime(2023, 10, 8, 6, 0), datetime.datetime(2023, 10, 8, 12, 0), datetime.datetime(2023, 10, 8, 18, 0), datetime.datetime(2023, 10, 9, 0, 0), datetime.datetime(2023, 10, 9, 6, 0), datetime.datetime(2023, 10, 9, 12, 0), datetime.datetime(2023, 10, 9, 18, 0), datetime.datetime(2023, 10, 10, 0, 0), datetime.datetime(2023, 10, 10, 6, 0), datetime.datetime(2023, 10, 10, 12, 0), datetime.datetime(2023, 10, 10, 18, 0), datetime.datetime(2023, 10, 11, 0, 0), datetime.datetime(2023, 10, 11, 6, 0), datetime.datetime(2023, 10, 11, 12, 0), datetime.datetime(2023, 10, 11, 18, 0), datetime.datetime(2023, 10, 12, 0, 0), datetime.datetime(2023, 10, 12, 6, 0), datetime.datetime(2023, 10, 12, 12, 0), datetime.datetime(2023, 10, 12, 18, 0), datetime.datetime(2023, 10, 13, 0, 0), datetime.datetime(2023, 10, 13, 6, 0), datetime.datetime(2023, 10, 13, 12, 0), datetime.datetime(2023, 10, 13, 18, 0), datetime.datetime(2023, 10, 14, 0, 0), datetime.datetime(2023, 10, 14, 6, 0), datetime.datetime(2023, 10, 14, 12, 0), datetime.datetime(2023, 10, 14, 18, 0), datetime.datetime(2023, 10, 15, 0, 0), datetime.datetime(2023, 10, 15, 6, 0), datetime.datetime(2023, 10, 15, 12, 0), datetime.datetime(2023, 10, 15, 18, 0), datetime.datetime(2023, 10, 16, 0, 0), datetime.datetime(2023, 10, 16, 6, 0), datetime.datetime(2023, 10, 16, 12, 0), datetime.datetime(2023, 10, 16, 18, 0), datetime.datetime(2023, 10, 17, 0, 0), datetime.datetime(2023, 10, 17, 6, 0), datetime.datetime(2023, 10, 17, 12, 0), datetime.datetime(2023, 10, 17, 18, 0), datetime.datetime(2023, 10, 18, 0, 0), datetime.datetime(2023, 10, 18, 6, 0), datetime.datetime(2023, 10, 18, 12, 0), datetime.datetime(2023, 10, 18, 18, 0), datetime.datetime(2023, 10, 19, 0, 0), datetime.datetime(2023, 10, 19, 6, 0), datetime.datetime(2023, 10, 19, 12, 0), datetime.datetime(2023, 10, 19, 18, 0), datetime.datetime(2023, 10, 20, 0, 0), datetime.datetime(2023, 10, 20, 6, 0), datetime.datetime(2023, 10, 20, 12, 0), datetime.datetime(2023, 10, 20, 18, 0), datetime.datetime(2023, 10, 21, 0, 0), datetime.datetime(2023, 10, 21, 6, 0), datetime.datetime(2023, 10, 21, 12, 0), datetime.datetime(2023, 10, 21, 18, 0), datetime.datetime(2023, 10, 22, 0, 0), datetime.datetime(2023, 10, 22, 6, 0), datetime.datetime(2023, 10, 22, 12, 0), datetime.datetime(2023, 10, 22, 18, 0), datetime.datetime(2023, 10, 23, 0, 0), datetime.datetime(2023, 10, 23, 6, 0), datetime.datetime(2023, 10, 23, 12, 0), datetime.datetime(2023, 10, 23, 18, 0), datetime.datetime(2023, 10, 24, 0, 0), datetime.datetime(2023, 10, 24, 6, 0), datetime.datetime(2023, 10, 24, 12, 0), datetime.datetime(2023, 10, 24, 18, 0), datetime.datetime(2023, 10, 25, 0, 0), datetime.datetime(2023, 10, 25, 6, 0), datetime.datetime(2023, 10, 25, 12, 0), datetime.datetime(2023, 10, 25, 18, 0), datetime.datetime(2023, 10, 26, 0, 0), datetime.datetime(2023, 10, 26, 6, 0), datetime.datetime(2023, 10, 26, 12, 0), datetime.datetime(2023, 10, 26, 18, 0), datetime.datetime(2023, 10, 27, 0, 0), datetime.datetime(2023, 10, 27, 6, 0), datetime.datetime(2023, 10, 27, 12, 0), datetime.datetime(2023, 10, 27, 18, 0), datetime.datetime(2023, 10, 28, 0, 0), datetime.datetime(2023, 10, 28, 6, 0), datetime.datetime(2023, 10, 28, 12, 0), datetime.datetime(2023, 10, 28, 18, 0), datetime.datetime(2023, 10, 29, 0, 0), datetime.datetime(2023, 10, 29, 6, 0), datetime.datetime(2023, 10, 29, 12, 0), datetime.datetime(2023, 10, 29, 18, 0), datetime.datetime(2023, 10, 30, 0, 0), datetime.datetime(2023, 10, 30, 6, 0), datetime.datetime(2023, 10, 30, 12, 0), datetime.datetime(2023, 10, 30, 18, 0), datetime.datetime(2023, 10, 31, 0, 0), datetime.datetime(2023, 10, 31, 6, 0), datetime.datetime(2023, 10, 31, 12, 0), datetime.datetime(2023, 10, 31, 18, 0), datetime.datetime(2023, 11, 1, 0, 0), datetime.datetime(2023, 11, 1, 6, 0), datetime.datetime(2023, 11, 1, 12, 0), datetime.datetime(2023, 11, 1, 18, 0), datetime.datetime(2023, 11, 2, 0, 0), datetime.datetime(2023, 11, 2, 6, 0), datetime.datetime(2023, 11, 2, 12, 0), datetime.datetime(2023, 11, 2, 18, 0), datetime.datetime(2023, 11, 3, 0, 0), datetime.datetime(2023, 11, 3, 6, 0), datetime.datetime(2023, 11, 3, 12, 0), datetime.datetime(2023, 11, 3, 18, 0), datetime.datetime(2023, 11, 4, 0, 0), datetime.datetime(2023, 11, 4, 6, 0), datetime.datetime(2023, 11, 4, 12, 0), datetime.datetime(2023, 11, 4, 18, 0), datetime.datetime(2023, 11, 5, 0, 0), datetime.datetime(2023, 11, 5, 6, 0), datetime.datetime(2023, 11, 5, 12, 0), datetime.datetime(2023, 11, 5, 18, 0), datetime.datetime(2023, 11, 6, 0, 0), datetime.datetime(2023, 11, 6, 6, 0), datetime.datetime(2023, 11, 6, 12, 0), datetime.datetime(2023, 11, 6, 18, 0), datetime.datetime(2023, 11, 7, 0, 0), datetime.datetime(2023, 11, 7, 6, 0), datetime.datetime(2023, 11, 7, 12, 0), datetime.datetime(2023, 11, 7, 18, 0), datetime.datetime(2023, 11, 8, 0, 0), datetime.datetime(2023, 11, 8, 6, 0), datetime.datetime(2023, 11, 8, 12, 0), datetime.datetime(2023, 11, 8, 18, 0), datetime.datetime(2023, 11, 9, 0, 0), datetime.datetime(2023, 11, 9, 6, 0), datetime.datetime(2023, 11, 9, 12, 0), datetime.datetime(2023, 11, 9, 18, 0), datetime.datetime(2023, 11, 10, 0, 0), datetime.datetime(2023, 11, 10, 6, 0), datetime.datetime(2023, 11, 10, 12, 0), datetime.datetime(2023, 11, 10, 18, 0), datetime.datetime(2023, 11, 11, 0, 0), datetime.datetime(2023, 11, 11, 6, 0), datetime.datetime(2023, 11, 11, 12, 0), datetime.datetime(2023, 11, 11, 18, 0), datetime.datetime(2023, 11, 12, 0, 0), datetime.datetime(2023, 11, 12, 6, 0), datetime.datetime(2023, 11, 12, 12, 0), datetime.datetime(2023, 11, 12, 18, 0), datetime.datetime(2023, 11, 13, 0, 0), datetime.datetime(2023, 11, 13, 6, 0), datetime.datetime(2023, 11, 13, 12, 0), datetime.datetime(2023, 11, 13, 18, 0), datetime.datetime(2023, 11, 14, 0, 0), datetime.datetime(2023, 11, 14, 6, 0), datetime.datetime(2023, 11, 14, 12, 0), datetime.datetime(2023, 11, 14, 18, 0), datetime.datetime(2023, 11, 15, 0, 0), datetime.datetime(2023, 11, 15, 6, 0), datetime.datetime(2023, 11, 15, 12, 0), datetime.datetime(2023, 11, 15, 18, 0), datetime.datetime(2023, 11, 16, 0, 0), datetime.datetime(2023, 11, 16, 6, 0), datetime.datetime(2023, 11, 16, 12, 0), datetime.datetime(2023, 11, 16, 18, 0), datetime.datetime(2023, 11, 17, 0, 0), datetime.datetime(2023, 11, 17, 6, 0), datetime.datetime(2023, 11, 17, 12, 0), datetime.datetime(2023, 11, 17, 18, 0), datetime.datetime(2023, 11, 18, 0, 0), datetime.datetime(2023, 11, 18, 6, 0), datetime.datetime(2023, 11, 18, 12, 0), datetime.datetime(2023, 11, 18, 18, 0), datetime.datetime(2023, 11, 19, 0, 0), datetime.datetime(2023, 11, 19, 6, 0), datetime.datetime(2023, 11, 19, 12, 0), datetime.datetime(2023, 11, 19, 18, 0), datetime.datetime(2023, 11, 20, 0, 0), datetime.datetime(2023, 11, 20, 6, 0), datetime.datetime(2023, 11, 20, 12, 0), datetime.datetime(2023, 11, 20, 18, 0)]\n"
     ]
    }
   ],
   "source": [
    "''' SD data info '''\n",
    "year = '2023'\n",
    "platfs_num = ['1031','1036','1040','1041','1042','1045','1057','1064','1065','1068','1069','1083']\n",
    "path_SD = os.path.expanduser('~/Documents/projects/sd-ni-wp/data_manipulate/data_merge_airsea/')\n",
    "filenames_SD_all = np.sort( os.listdir(path_SD) )\n",
    "filenames_SD = np.array([])\n",
    "for file in filenames_SD_all:\n",
    "    if ('.nc' in file) & (year in file) & (file[-7:-3] in platfs_num):\n",
    "        filenames_SD = np.append(filenames_SD, file)\n",
    "print(len(filenames_SD), filenames_SD)\n",
    "''' GFS model data info '''\n",
    "data_type = 'surface.now.'\n",
    "path_model = '/Volumes/disk3/projects/tc2022/tc2023/GFS/sfc/'\n",
    "folder_by_day_model = np.sort( os.listdir(path_model) ).tolist()\n",
    "print(len(folder_by_day_model), folder_by_day_model)\n",
    "''' model hour/ time settings '''\n",
    "hr_fcst = np.arange(1,7) # hour 1 to 6\n",
    "datelim = [datetime.datetime(int(year),8,1), datetime.datetime(int(year),11,20)]\n",
    "nfiles = (datelim[1]-datelim[0]).days+1\n",
    "file_dates = [(datelim[0]+datetime.timedelta(hours=6*i)) for i in range(nfiles*4)]\n",
    "print(file_dates)"
   ]
  },
  {
   "cell_type": "code",
   "execution_count": 3,
   "metadata": {},
   "outputs": [
    {
     "name": "stdout",
     "output_type": "stream",
     "text": [
      "start reading SD 1031 nc data\n",
      "start reading SD 1036 nc data\n",
      "start reading SD 1040 nc data\n",
      "start reading SD 1041 nc data\n",
      "start reading SD 1042 nc data\n",
      "start reading SD 1045 nc data\n",
      "start reading SD 1057 nc data\n",
      "start reading SD 1064 nc data\n",
      "start reading SD 1065 nc data\n",
      "start reading SD 1068 nc data\n",
      "start reading SD 1069 nc data\n",
      "start reading SD 1083 nc data\n"
     ]
    }
   ],
   "source": [
    "''' load all SD platf data & append specific variables to the dictionary '''\n",
    "''' Wind were measured at 3.5 m for Hurricane Saildrone missions 2021-2024! '''\n",
    "SDs_data = {}\n",
    "vars_SD_want = ['time','longitude','latitude','UWND_MEAN','VWND_MEAN','WATER_CURRENT_SPEED_MEAN','WATER_CURRENT_DIRECTION_MEAN']\n",
    "# print(SDs_data)\n",
    "for i, file in enumerate( filenames_SD ):\n",
    "    platf_num = file[-7:-3]\n",
    "    print('start reading SD',platf_num,'nc data')\n",
    "    ds = nc.Dataset(path_SD+file)\n",
    "    # print(ds)\n",
    "    ''' read variables '''\n",
    "    for j, var_str in enumerate( vars_SD_want ):\n",
    "        str_exec = var_str+' = ds.variables[\"'+var_str+'\"][:]'\n",
    "        exec(str_exec)\n",
    "        if 'time' in var_str:\n",
    "            time = np.array([(datetime.datetime(int(year),1,1)+datetime.timedelta(seconds=item)).timestamp() for item in time])\n",
    "        # print(var_str,eval(var_str).shape)\n",
    "        ''' write data to dictionary '''\n",
    "        SDs_data[platf_num+'-'+var_str] = eval(var_str)\n",
    "    ds.close()"
   ]
  },
  {
   "cell_type": "code",
   "execution_count": null,
   "metadata": {},
   "outputs": [
    {
     "name": "stdout",
     "output_type": "stream",
     "text": [
      "datetime of forecast cycle: 2023-08-01 00:00:00 date: 20230801 forcast cycle hour: 00\n",
      "Reading model time/lon/lat: /Volumes/disk3/projects/tc2022/tc2023/GFS/sfc/20230801/reg/gfs.20230801.t00z.sfcf001.nc\n",
      "Reading model u/v: /Volumes/disk3/projects/tc2022/tc2023/GFS/sfc/20230801/reg/gfs.20230801.t00z.sfcf001.nc\n",
      "Reading model time/lon/lat: /Volumes/disk3/projects/tc2022/tc2023/GFS/sfc/20230801/reg/gfs.20230801.t00z.sfcf002.nc\n",
      "Reading model u/v: /Volumes/disk3/projects/tc2022/tc2023/GFS/sfc/20230801/reg/gfs.20230801.t00z.sfcf002.nc\n"
     ]
    }
   ],
   "source": [
    "''' loop through all the model GFS data and find the collocated values to SD alongtrack data '''\n",
    "model_match_SDs_data = {}\n",
    "vars_str = ['UGRD10M','VGRD10M','UFLX_AVE','VFLX_AVE']\n",
    "dt_search = datetime.timedelta(minutes=0.5).total_seconds()\n",
    "dx_search = 0.1\n",
    "if 'lon_model' in locals():\n",
    "    del lon_model, lat_model\n",
    "for f, dtime_f in enumerate( file_dates ):\n",
    "    folder_date = dtime_f.strftime('%Y%m%d')\n",
    "    fcst_cycle_hr = dtime_f.hour\n",
    "    print('datetime of forecast cycle:',dtime_f, 'date:',folder_date, 'forcast cycle hour:',str(fcst_cycle_hr).zfill(2), )\n",
    "    for hr in hr_fcst:\n",
    "        path_fn = path_model+folder_date+'/reg/gfs.'+folder_date+\\\n",
    "            '.t'+str(fcst_cycle_hr).zfill(2)+'z.sfcf'+str(hr).zfill(3)+'.nc'\n",
    "        if os.path.isfile(path_fn):\n",
    "            ds = nc.Dataset(path_fn)\n",
    "            # print(ds)\n",
    "            if 'UGRD10M' in locals(): # clear model variables\n",
    "                del UGRD10M, VGRD10M, UFLX_AVE, VFLX_AVE\n",
    "            ''' read model data (only load lon/ lat once) '''\n",
    "            print('Reading model time/lon/lat:',path_fn)\n",
    "            if 'lon_model' not in locals():\n",
    "                lon_model = ds.variables['LON'][:][0,:]\n",
    "                lon_model[lon_model> 180] = lon_model[lon_model> 180]-360\n",
    "                lat_model = ds.variables['LAT'][:][:,0]\n",
    "                # print(lon_model.shape, np.min(lon_model),np.max(lon_model))\n",
    "            ''' both the following ways of getting timestamp are consistent '''\n",
    "            timestamp_model = (dtime_f+datetime.timedelta(hours=int(hr))).timestamp()\n",
    "            # timestamp_model0 = (datetime.datetime.strptime(folder_date,'%Y%m%d')+\\\n",
    "            #                     datetime.timedelta(hours=int(fcst_cycle_hr+hr))).timestamp()\n",
    "            # if timestamp_model0 == timestamp_model:\n",
    "            #     print('timestamp for',dtime_f,'fcst hour',hr,'is good:',datetime.datetime.fromtimestamp(timestamp_model0))\n",
    "            ''' look at one SD track at a time '''\n",
    "            for s, platf_num in enumerate(platfs_num):\n",
    "                ''' pull the specific SD data from dictionary '''\n",
    "                # print('Reading SD',platf_num)\n",
    "                timestamp_SD = SDs_data[platf_num+'-time']\n",
    "                lon_SD = SDs_data[platf_num+'-longitude']\n",
    "                lat_SD = SDs_data[platf_num+'-latitude']\n",
    "                u_SD = SDs_data[platf_num+'-UWND_MEAN']\n",
    "                v_SD = SDs_data[platf_num+'-VWND_MEAN']\n",
    "                for t in range( len(timestamp_SD) ): ### loop through the SD track\n",
    "                    # print(datetime.datetime.fromtimestamp(timestamp_SD[t]))\n",
    "                    dt_sec = np.abs( timestamp_model-timestamp_SD[t])\n",
    "                    if dt_sec< dt_search:\n",
    "                        ilon_model = np.argmin( np.abs(lon_model-lon_SD[t]) )\n",
    "                        ilat_model = np.argmin( np.abs(lat_model-lat_SD[t]) )\n",
    "                        if (np.abs(lon_model[ilon_model]-lon_SD[t])< dx_search) & \\\n",
    "                            (np.abs(lat_model[ilat_model]-lat_SD[t])< dx_search):\n",
    "                            if 'UGRD10M' not in locals():\n",
    "                                print('Reading model u/v:',path_fn)\n",
    "                                for var_str in vars_str:\n",
    "                                    str_exec = var_str + '=ds.variables[\"'+var_str+'\"][:]'\n",
    "                                    exec(str_exec)\n",
    "                                UGRD10M = np.squeeze(UGRD10M)\n",
    "                                VGRD10M = np.squeeze(VGRD10M)\n",
    "                                UFLX_AVE = np.squeeze(UFLX_AVE)\n",
    "                                VFLX_AVE = np.squeeze(VFLX_AVE)\n",
    "                            # print(platf_num,datetime.datetime.fromtimestamp(timestamp_SD[t]), lon_model[ilon_model],lon_SD[t],lat_model[ilat_model],lat_SD[t])\n",
    "                            ''' append the collocated values in the dictionary '''\n",
    "                            if platf_num+'-time' not in model_match_SDs_data:\n",
    "                                model_match_SDs_data[platf_num+'-time'] = timestamp_SD[t]\n",
    "                                model_match_SDs_data[platf_num+'-longitude'] = lon_SD[t]\n",
    "                                model_match_SDs_data[platf_num+'-latitude'] = lat_SD[t]\n",
    "                                model_match_SDs_data[platf_num+'-UFLX'] = UFLX_AVE[ilat_model,ilon_model]\n",
    "                                model_match_SDs_data[platf_num+'-VFLX'] = VFLX_AVE[ilat_model,ilon_model]\n",
    "                                model_match_SDs_data[platf_num+'-U10M'] = np.array([u_SD[t], UGRD10M[ilat_model,ilon_model]])\n",
    "                                model_match_SDs_data[platf_num+'-V10M'] = np.array([v_SD[t], VGRD10M[ilat_model,ilon_model]])\n",
    "                            else:\n",
    "                                model_match_SDs_data[platf_num+'-time'] = np.append(model_match_SDs_data[platf_num+'-time'], timestamp_SD[t])\n",
    "                                model_match_SDs_data[platf_num+'-longitude'] = np.append(model_match_SDs_data[platf_num+'-longitude'],lon_SD[t])\n",
    "                                model_match_SDs_data[platf_num+'-latitude'] = np.append(model_match_SDs_data[platf_num+'-latitude'],lat_SD[t])\n",
    "                                model_match_SDs_data[platf_num+'-UFLX'] = np.append(model_match_SDs_data[platf_num+'-UFLX'],UFLX_AVE[ilat_model,ilon_model])\n",
    "                                model_match_SDs_data[platf_num+'-VFLX'] = np.append(model_match_SDs_data[platf_num+'-VFLX'],VFLX_AVE[ilat_model,ilon_model])\n",
    "                                data_app = np.array([u_SD[t], UGRD10M[ilat_model,ilon_model]])\n",
    "                                model_match_SDs_data[platf_num+'-U10M'] = np.column_stack( (model_match_SDs_data[platf_num+'-U10M'], data_app) )\n",
    "                                data_app = np.array([v_SD[t], VGRD10M[ilat_model,ilon_model]])\n",
    "                                model_match_SDs_data[platf_num+'-V10M'] = np.column_stack( (model_match_SDs_data[platf_num+'-V10M'], data_app) )\n",
    "            ds.close()\n",
    "        else:\n",
    "            print('No file:'+path_fn)\n",
    "    # break \n",
    "# for key in model_match_SDs_data:\n",
    "#     print(key, model_match_SDs_data[key].shape)"
   ]
  },
  {
   "cell_type": "code",
   "execution_count": 5,
   "metadata": {},
   "outputs": [
    {
     "name": "stdout",
     "output_type": "stream",
     "text": [
      "1031 (0,) (2, 1963)\n",
      "1036 (4,) (2, 2038)\n",
      "1036 (2, 2034)\n",
      "1040 (27,) (2, 1109)\n",
      "1040 (2, 1082)\n",
      "1041 (0,) (2, 1416)\n",
      "1042 (3,) (2, 729)\n",
      "1042 (2, 726)\n",
      "1045 (20,) (2, 2062)\n",
      "1045 (2, 2042)\n",
      "1057 (14,) (2, 1469)\n",
      "1057 (2, 1455)\n",
      "1064 (32,) (2, 559)\n",
      "1064 (2, 527)\n",
      "1065 (0,) (2, 1007)\n",
      "1068 (33,) (2, 1688)\n",
      "1068 (2, 1655)\n",
      "1069 (1,) (2, 2208)\n",
      "1069 (2, 2207)\n",
      "1083 (113,) (2, 2061)\n",
      "1083 (2, 1948)\n"
     ]
    }
   ],
   "source": [
    "''' remove NaN values '''\n",
    "for i, platf_num in enumerate( platfs_num ):\n",
    "    isNaN = np.where( np.isnan(model_match_SDs_data[platf_num+'-U10M'][0,:]) | \\\n",
    "                     np.isnan(model_match_SDs_data[platf_num+'-U10M'][1,:]) )[0]\n",
    "    print(platf_num, isNaN.shape, model_match_SDs_data[platf_num+'-U10M'].shape)\n",
    "    if len(isNaN) > 0:\n",
    "        model_match_SDs_data[platf_num+'-time'] = np.delete(model_match_SDs_data[platf_num+'-time'], isNaN)\n",
    "        model_match_SDs_data[platf_num+'-longitude'] = np.delete(model_match_SDs_data[platf_num+'-longitude'], isNaN)\n",
    "        model_match_SDs_data[platf_num+'-latitude'] = np.delete(model_match_SDs_data[platf_num+'-latitude'], isNaN)\n",
    "        model_match_SDs_data[platf_num+'-UFLX'] = np.delete(model_match_SDs_data[platf_num+'-UFLX'], isNaN)\n",
    "        model_match_SDs_data[platf_num+'-VFLX'] = np.delete(model_match_SDs_data[platf_num+'-VFLX'], isNaN)\n",
    "        model_match_SDs_data[platf_num+'-U10M'] = np.delete(model_match_SDs_data[platf_num+'-U10M'], isNaN, axis=1 )\n",
    "        model_match_SDs_data[platf_num+'-V10M'] = np.delete(model_match_SDs_data[platf_num+'-V10M'], isNaN, axis=1 )\n",
    "        print(platf_num, model_match_SDs_data[platf_num+'-U10M'].shape)"
   ]
  },
  {
   "cell_type": "code",
   "execution_count": 6,
   "metadata": {},
   "outputs": [
    {
     "name": "stdout",
     "output_type": "stream",
     "text": [
      "1031 (1963, 9)\n",
      "1036 (2034, 9)\n",
      "1040 (1082, 9)\n",
      "1041 (1416, 9)\n",
      "1042 (726, 9)\n",
      "1045 (2042, 9)\n",
      "1057 (1455, 9)\n",
      "1064 (527, 9)\n",
      "1065 (1007, 9)\n",
      "1068 (1655, 9)\n",
      "1069 (2207, 9)\n",
      "1083 (1948, 9)\n"
     ]
    }
   ],
   "source": [
    "''' write data out to text files - by drone '''\n",
    "for i, platf_num in enumerate( platfs_num ):\n",
    "    vars_str_in_dict = ['time','longitude','latitude','UFLX','VFLX','U10M','V10M']\n",
    "    vars_str_out = ['timestamp','longitude','latitude','UFLX(GFS) (N/m**2)','VFLX(GFS) (N/m**2)','U3.5M(SD) (m/s)','U10M(GFS) (m/s)','V3.5M(SD) (m/s)','V10M(GFS) (m/s)']\n",
    "    if 'out_array' in locals():\n",
    "        del out_array\n",
    "    ''' column stack the values to a 2D array '''\n",
    "    for j, var_str_in_dict in enumerate( vars_str_in_dict ):\n",
    "        data = model_match_SDs_data[platf_num+'-'+var_str_in_dict]\n",
    "        if data.ndim == 1:\n",
    "            if 'out_array' not in locals():\n",
    "                out_array = data\n",
    "            else:\n",
    "                out_array = np.column_stack( (out_array, data) )\n",
    "        if data.ndim == 2:\n",
    "            for k in range( data.shape[0] ):\n",
    "                out_array = np.column_stack( (out_array, data[k,:]))\n",
    "    print(platf_num, out_array.shape)\n",
    "    ''' write 2D array to text file '''\n",
    "    fn_out = 'timeseries_wnd_match_'+year+'-SD'+platf_num+'_GFS.txt'\n",
    "    np.savetxt(fn_out, out_array, delimiter=' ', header=' '.join(vars_str_out))"
   ]
  }
 ],
 "metadata": {
  "kernelspec": {
   "display_name": "pycode",
   "language": "python",
   "name": "python3"
  },
  "language_info": {
   "codemirror_mode": {
    "name": "ipython",
    "version": 3
   },
   "file_extension": ".py",
   "mimetype": "text/x-python",
   "name": "python",
   "nbconvert_exporter": "python",
   "pygments_lexer": "ipython3",
   "version": "3.9.7"
  }
 },
 "nbformat": 4,
 "nbformat_minor": 2
}
